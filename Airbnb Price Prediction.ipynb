{
 "cells": [
  {
   "cell_type": "markdown",
   "id": "f6f78964",
   "metadata": {},
   "source": [
    "# Imports"
   ]
  },
  {
   "cell_type": "code",
   "execution_count": 1,
   "id": "995282c1",
   "metadata": {
    "ExecuteTime": {
     "end_time": "2023-06-09T20:24:25.277347Z",
     "start_time": "2023-06-09T20:24:22.237526Z"
    }
   },
   "outputs": [
    {
     "name": "stderr",
     "output_type": "stream",
     "text": [
      "2023-06-09 22:24:23.901325: E tensorflow/stream_executor/cuda/cuda_blas.cc:2981] Unable to register cuBLAS factory: Attempting to register factory for plugin cuBLAS when one has already been registered\n"
     ]
    }
   ],
   "source": [
    "import os\n",
    "import glob\n",
    "import pandas as pd\n",
    "import numpy as np\n",
    "import seaborn as sns\n",
    "import matplotlib.pyplot as plt\n",
    "%matplotlib inline\n",
    "\n",
    "\n",
    "from sklearn.model_selection import train_test_split\n",
    "from sklearn.impute import SimpleImputer\n",
    "from sklearn.preprocessing import StandardScaler\n",
    "from sklearn.compose import ColumnTransformer\n",
    "from sklearn.preprocessing import OneHotEncoder\n",
    "\n",
    "from tensorflow.keras import models, layers\n",
    "from tensorflow.keras.callbacks import EarlyStopping\n",
    "from tensorflow.keras.regularizers import L1"
   ]
  },
  {
   "cell_type": "markdown",
   "id": "bd21c7c8",
   "metadata": {},
   "source": [
    "# Get Data"
   ]
  },
  {
   "cell_type": "markdown",
   "id": "e699b846",
   "metadata": {},
   "source": [
    "Data is from kaggle https://www.kaggle.com/datasets/thedevastator/airbnb-prices-in-european-cities"
   ]
  },
  {
   "attachments": {
    "image.png": {
     "image/png": "[encoded data removed]"
    }
   },
   "cell_type": "markdown",
   "id": "e0ffed53",
   "metadata": {},
   "source": [
    "Data folder in this directory looks like this : 20 files with name city-weekends(or weekdays).csv\n",
    "![image.png](attachment:image.png)"
   ]
  },
  {
   "cell_type": "markdown",
   "id": "d6fe143c",
   "metadata": {
    "ExecuteTime": {
     "end_time": "2023-06-09T12:58:36.580665Z",
     "start_time": "2023-06-09T12:58:36.573219Z"
    }
   },
   "source": [
    "Make a concatenated dataframe with a new column 'filename'"
   ]
  },
  {
   "cell_type": "code",
   "execution_count": 2,
   "id": "aa47943f",
   "metadata": {
    "ExecuteTime": {
     "end_time": "2023-06-09T20:24:25.447367Z",
     "start_time": "2023-06-09T20:24:25.280312Z"
    }
   },
   "outputs": [],
   "source": [
    "globbed_files = glob.glob(\"data/*.csv\")\n",
    "data=[]\n",
    "for csv in globbed_files:\n",
    "    frame = pd.read_csv(csv)\n",
    "    frame['filename'] = os.path.basename(csv)\n",
    "    data.append(frame)"
   ]
  },
  {
   "cell_type": "code",
   "execution_count": 3,
   "id": "690dc6df",
   "metadata": {
    "ExecuteTime": {
     "end_time": "2023-06-09T20:24:25.472682Z",
     "start_time": "2023-06-09T20:24:25.452349Z"
    },
    "scrolled": true
   },
   "outputs": [],
   "source": [
    "df = pd.concat(data)"
   ]
  },
  {
   "cell_type": "markdown",
   "id": "b966e67a",
   "metadata": {
    "ExecuteTime": {
     "end_time": "2023-06-09T12:59:30.606639Z",
     "start_time": "2023-06-09T12:59:30.599652Z"
    }
   },
   "source": [
    "Make new columns 'weekday_weekend' & 'city', as they are the information we need from the filenames"
   ]
  },
  {
   "cell_type": "code",
   "execution_count": 4,
   "id": "9cd5da25",
   "metadata": {
    "ExecuteTime": {
     "end_time": "2023-06-09T20:24:25.528809Z",
     "start_time": "2023-06-09T20:24:25.476845Z"
    }
   },
   "outputs": [],
   "source": [
    "df['weekday_weekend'] = df['filename'].map(lambda x: x.split('_')[1].rstrip('.csv'))\n",
    "df['city'] = df['filename'].map(lambda x: x.split('_')[0])"
   ]
  },
  {
   "cell_type": "code",
   "execution_count": 5,
   "id": "a8b5b66f",
   "metadata": {
    "ExecuteTime": {
     "end_time": "2023-06-09T20:24:25.543870Z",
     "start_time": "2023-06-09T20:24:25.532035Z"
    }
   },
   "outputs": [],
   "source": [
    "#removing unnecessary columns for this analysis\n",
    "df = df.drop(columns=['multi','biz','filename', 'Unnamed: 0', 'attr_index','attr_index_norm', 'rest_index', 'rest_index_norm', 'lng', 'lat'])"
   ]
  },
  {
   "cell_type": "code",
   "execution_count": 6,
   "id": "12fe466c",
   "metadata": {
    "ExecuteTime": {
     "end_time": "2023-06-09T20:24:25.574829Z",
     "start_time": "2023-06-09T20:24:25.547460Z"
    }
   },
   "outputs": [
    {
     "data": {
      "text/html": [
       "<div>\n",
       "<style scoped>\n",
       "    .dataframe tbody tr th:only-of-type {\n",
       "        vertical-align: middle;\n",
       "    }\n",
       "\n",
       "    .dataframe tbody tr th {\n",
       "        vertical-align: top;\n",
       "    }\n",
       "\n",
       "    .dataframe thead th {\n",
       "        text-align: right;\n",
       "    }\n",
       "</style>\n",
       "<table border=\"1\" class=\"dataframe\">\n",
       "  <thead>\n",
       "    <tr style=\"text-align: right;\">\n",
       "      <th></th>\n",
       "      <th>realSum</th>\n",
       "      <th>room_type</th>\n",
       "      <th>room_shared</th>\n",
       "      <th>room_private</th>\n",
       "      <th>person_capacity</th>\n",
       "      <th>host_is_superhost</th>\n",
       "      <th>cleanliness_rating</th>\n",
       "      <th>guest_satisfaction_overall</th>\n",
       "      <th>bedrooms</th>\n",
       "      <th>dist</th>\n",
       "      <th>metro_dist</th>\n",
       "      <th>weekday_weekend</th>\n",
       "      <th>city</th>\n",
       "    </tr>\n",
       "  </thead>\n",
       "  <tbody>\n",
       "    <tr>\n",
       "      <th>0</th>\n",
       "      <td>332.048691</td>\n",
       "      <td>Entire home/apt</td>\n",
       "      <td>False</td>\n",
       "      <td>False</td>\n",
       "      <td>6.0</td>\n",
       "      <td>True</td>\n",
       "      <td>10.0</td>\n",
       "      <td>99.0</td>\n",
       "      <td>1</td>\n",
       "      <td>0.359372</td>\n",
       "      <td>0.352662</td>\n",
       "      <td>weekend</td>\n",
       "      <td>budapest</td>\n",
       "    </tr>\n",
       "    <tr>\n",
       "      <th>1</th>\n",
       "      <td>331.108709</td>\n",
       "      <td>Entire home/apt</td>\n",
       "      <td>False</td>\n",
       "      <td>False</td>\n",
       "      <td>6.0</td>\n",
       "      <td>False</td>\n",
       "      <td>9.0</td>\n",
       "      <td>98.0</td>\n",
       "      <td>2</td>\n",
       "      <td>0.929438</td>\n",
       "      <td>0.200219</td>\n",
       "      <td>weekend</td>\n",
       "      <td>budapest</td>\n",
       "    </tr>\n",
       "    <tr>\n",
       "      <th>2</th>\n",
       "      <td>243.925365</td>\n",
       "      <td>Entire home/apt</td>\n",
       "      <td>False</td>\n",
       "      <td>False</td>\n",
       "      <td>6.0</td>\n",
       "      <td>False</td>\n",
       "      <td>10.0</td>\n",
       "      <td>95.0</td>\n",
       "      <td>2</td>\n",
       "      <td>0.674318</td>\n",
       "      <td>0.314709</td>\n",
       "      <td>weekend</td>\n",
       "      <td>budapest</td>\n",
       "    </tr>\n",
       "    <tr>\n",
       "      <th>3</th>\n",
       "      <td>206.561075</td>\n",
       "      <td>Entire home/apt</td>\n",
       "      <td>False</td>\n",
       "      <td>False</td>\n",
       "      <td>5.0</td>\n",
       "      <td>True</td>\n",
       "      <td>10.0</td>\n",
       "      <td>99.0</td>\n",
       "      <td>2</td>\n",
       "      <td>1.338114</td>\n",
       "      <td>0.614128</td>\n",
       "      <td>weekend</td>\n",
       "      <td>budapest</td>\n",
       "    </tr>\n",
       "    <tr>\n",
       "      <th>4</th>\n",
       "      <td>238.285473</td>\n",
       "      <td>Entire home/apt</td>\n",
       "      <td>False</td>\n",
       "      <td>False</td>\n",
       "      <td>4.0</td>\n",
       "      <td>False</td>\n",
       "      <td>9.0</td>\n",
       "      <td>84.0</td>\n",
       "      <td>0</td>\n",
       "      <td>0.835635</td>\n",
       "      <td>0.175568</td>\n",
       "      <td>weekend</td>\n",
       "      <td>budapest</td>\n",
       "    </tr>\n",
       "  </tbody>\n",
       "</table>\n",
       "</div>"
      ],
      "text/plain": [
       "      realSum        room_type  room_shared  room_private  person_capacity  \\\n",
       "0  332.048691  Entire home/apt        False         False              6.0   \n",
       "1  331.108709  Entire home/apt        False         False              6.0   \n",
       "2  243.925365  Entire home/apt        False         False              6.0   \n",
       "3  206.561075  Entire home/apt        False         False              5.0   \n",
       "4  238.285473  Entire home/apt        False         False              4.0   \n",
       "\n",
       "   host_is_superhost  cleanliness_rating  guest_satisfaction_overall  \\\n",
       "0               True                10.0                        99.0   \n",
       "1              False                 9.0                        98.0   \n",
       "2              False                10.0                        95.0   \n",
       "3               True                10.0                        99.0   \n",
       "4              False                 9.0                        84.0   \n",
       "\n",
       "   bedrooms      dist  metro_dist weekday_weekend      city  \n",
       "0         1  0.359372    0.352662         weekend  budapest  \n",
       "1         2  0.929438    0.200219         weekend  budapest  \n",
       "2         2  0.674318    0.314709         weekend  budapest  \n",
       "3         2  1.338114    0.614128         weekend  budapest  \n",
       "4         0  0.835635    0.175568         weekend  budapest  "
      ]
     },
     "execution_count": 6,
     "metadata": {},
     "output_type": "execute_result"
    }
   ],
   "source": [
    "df.head()"
   ]
  },
  {
   "cell_type": "markdown",
   "id": "817d0d74",
   "metadata": {},
   "source": [
    "The target is 'realSum'('the total price of the Airbnb listing')"
   ]
  },
  {
   "cell_type": "code",
   "execution_count": 7,
   "id": "e7a267e2",
   "metadata": {
    "ExecuteTime": {
     "end_time": "2023-06-09T20:24:25.586498Z",
     "start_time": "2023-06-09T20:24:25.577863Z"
    }
   },
   "outputs": [],
   "source": [
    "X = df.drop(columns='realSum')\n",
    "y = df.realSum"
   ]
  },
  {
   "cell_type": "code",
   "execution_count": 8,
   "id": "827d35f6",
   "metadata": {
    "ExecuteTime": {
     "end_time": "2023-06-09T20:24:25.597111Z",
     "start_time": "2023-06-09T20:24:25.590300Z"
    }
   },
   "outputs": [
    {
     "data": {
      "text/plain": [
       "279.8795910937968"
      ]
     },
     "execution_count": 8,
     "metadata": {},
     "output_type": "execute_result"
    }
   ],
   "source": [
    "np.average(y)"
   ]
  },
  {
   "cell_type": "markdown",
   "id": "e8f66d17",
   "metadata": {},
   "source": [
    "See the correlation matrix..."
   ]
  },
  {
   "cell_type": "code",
   "execution_count": 9,
   "id": "5a399c98",
   "metadata": {
    "ExecuteTime": {
     "end_time": "2023-06-09T20:24:25.871441Z",
     "start_time": "2023-06-09T20:24:25.602322Z"
    }
   },
   "outputs": [
    {
     "data": {
      "text/plain": [
       "<AxesSubplot:>"
      ]
     },
     "execution_count": 9,
     "metadata": {},
     "output_type": "execute_result"
    },
    {
     "data": {
      "image/png": "[encoded data removed]",
      "text/plain": [
       "<Figure size 640x480 with 2 Axes>"
      ]
     },
     "metadata": {},
     "output_type": "display_data"
    }
   ],
   "source": [
    "sns.heatmap(X.corr(), cmap='coolwarm')"
   ]
  },
  {
   "attachments": {},
   "cell_type": "markdown",
   "id": "67859af7",
   "metadata": {},
   "source": [
    "room_private and person_capacity seem relatively highly correlated. --> let's drop 'room_private' (boolean) and keep 'person_capacity' (int) which contains more information. "
   ]
  },
  {
   "cell_type": "code",
   "execution_count": 10,
   "id": "58938ea1",
   "metadata": {
    "ExecuteTime": {
     "end_time": "2023-06-09T20:24:25.884692Z",
     "start_time": "2023-06-09T20:24:25.874683Z"
    }
   },
   "outputs": [],
   "source": [
    "X = df.drop(columns=['realSum', \n",
    "                        'room_private'])"
   ]
  },
  {
   "cell_type": "code",
   "execution_count": 11,
   "id": "2907f929",
   "metadata": {
    "ExecuteTime": {
     "end_time": "2023-06-09T20:24:25.913188Z",
     "start_time": "2023-06-09T20:24:25.888429Z"
    }
   },
   "outputs": [],
   "source": [
    "X_num_col = X.select_dtypes(include=['float', 'int']).columns\n",
    "X_str_col = X.select_dtypes(include=['object', 'bool']).columns"
   ]
  },
  {
   "cell_type": "markdown",
   "id": "5daece39",
   "metadata": {},
   "source": [
    "## Train Test Split"
   ]
  },
  {
   "cell_type": "code",
   "execution_count": 12,
   "id": "c4f3b8bd",
   "metadata": {
    "ExecuteTime": {
     "end_time": "2023-06-09T20:24:25.941002Z",
     "start_time": "2023-06-09T20:24:25.916096Z"
    }
   },
   "outputs": [
    {
     "data": {
      "text/plain": [
       "((41365, 11), (10342, 11), (41365,), (10342,))"
      ]
     },
     "execution_count": 12,
     "metadata": {},
     "output_type": "execute_result"
    }
   ],
   "source": [
    "X_train, X_test, y_train, y_test = train_test_split(X, y, test_size = 0.20)\n",
    "X_train.shape, X_test.shape, y_train.shape, y_test.shape"
   ]
  },
  {
   "cell_type": "markdown",
   "id": "56183f39",
   "metadata": {},
   "source": [
    "## Preprocess numerical / categorical columns"
   ]
  },
  {
   "cell_type": "code",
   "execution_count": 13,
   "id": "75f70b4d",
   "metadata": {
    "ExecuteTime": {
     "end_time": "2023-06-09T20:24:25.960300Z",
     "start_time": "2023-06-09T20:24:25.943471Z"
    }
   },
   "outputs": [
    {
     "data": {
      "text/html": [
       "<style>#sk-container-id-1 {color: black;background-color: white;}#sk-container-id-1 pre{padding: 0;}#sk-container-id-1 div.sk-toggleable {background-color: white;}#sk-container-id-1 label.sk-toggleable__label {cursor: pointer;display: block;width: 100%;margin-bottom: 0;padding: 0.3em;box-sizing: border-box;text-align: center;}#sk-container-id-1 label.sk-toggleable__label-arrow:before {content: \"▸\";float: left;margin-right: 0.25em;color: #696969;}#sk-container-id-1 label.sk-toggleable__label-arrow:hover:before {color: black;}#sk-container-id-1 div.sk-estimator:hover label.sk-toggleable__label-arrow:before {color: black;}#sk-container-id-1 div.sk-toggleable__content {max-height: 0;max-width: 0;overflow: hidden;text-align: left;background-color: #f0f8ff;}#sk-container-id-1 div.sk-toggleable__content pre {margin: 0.2em;color: black;border-radius: 0.25em;background-color: #f0f8ff;}#sk-container-id-1 input.sk-toggleable__control:checked~div.sk-toggleable__content {max-height: 200px;max-width: 100%;overflow: auto;}#sk-container-id-1 input.sk-toggleable__control:checked~label.sk-toggleable__label-arrow:before {content: \"▾\";}#sk-container-id-1 div.sk-estimator input.sk-toggleable__control:checked~label.sk-toggleable__label {background-color: #d4ebff;}#sk-container-id-1 div.sk-label input.sk-toggleable__control:checked~label.sk-toggleable__label {background-color: #d4ebff;}#sk-container-id-1 input.sk-hidden--visually {border: 0;clip: rect(1px 1px 1px 1px);clip: rect(1px, 1px, 1px, 1px);height: 1px;margin: -1px;overflow: hidden;padding: 0;position: absolute;width: 1px;}#sk-container-id-1 div.sk-estimator {font-family: monospace;background-color: #f0f8ff;border: 1px dotted black;border-radius: 0.25em;box-sizing: border-box;margin-bottom: 0.5em;}#sk-container-id-1 div.sk-estimator:hover {background-color: #d4ebff;}#sk-container-id-1 div.sk-parallel-item::after {content: \"\";width: 100%;border-bottom: 1px solid gray;flex-grow: 1;}#sk-container-id-1 div.sk-label:hover label.sk-toggleable__label {background-color: #d4ebff;}#sk-container-id-1 div.sk-serial::before {content: \"\";position: absolute;border-left: 1px solid gray;box-sizing: border-box;top: 0;bottom: 0;left: 50%;z-index: 0;}#sk-container-id-1 div.sk-serial {display: flex;flex-direction: column;align-items: center;background-color: white;padding-right: 0.2em;padding-left: 0.2em;position: relative;}#sk-container-id-1 div.sk-item {position: relative;z-index: 1;}#sk-container-id-1 div.sk-parallel {display: flex;align-items: stretch;justify-content: center;background-color: white;position: relative;}#sk-container-id-1 div.sk-item::before, #sk-container-id-1 div.sk-parallel-item::before {content: \"\";position: absolute;border-left: 1px solid gray;box-sizing: border-box;top: 0;bottom: 0;left: 50%;z-index: -1;}#sk-container-id-1 div.sk-parallel-item {display: flex;flex-direction: column;z-index: 1;position: relative;background-color: white;}#sk-container-id-1 div.sk-parallel-item:first-child::after {align-self: flex-end;width: 50%;}#sk-container-id-1 div.sk-parallel-item:last-child::after {align-self: flex-start;width: 50%;}#sk-container-id-1 div.sk-parallel-item:only-child::after {width: 0;}#sk-container-id-1 div.sk-dashed-wrapped {border: 1px dashed gray;margin: 0 0.4em 0.5em 0.4em;box-sizing: border-box;padding-bottom: 0.4em;background-color: white;}#sk-container-id-1 div.sk-label label {font-family: monospace;font-weight: bold;display: inline-block;line-height: 1.2em;}#sk-container-id-1 div.sk-label-container {text-align: center;}#sk-container-id-1 div.sk-container {/* jupyter's `normalize.less` sets `[hidden] { display: none; }` but bootstrap.min.css set `[hidden] { display: none !important; }` so we also need the `!important` here to be able to override the default hidden behavior on the sphinx rendered scikit-learn.org. See: https://github.com/scikit-learn/scikit-learn/issues/21755 */display: inline-block !important;position: relative;}#sk-container-id-1 div.sk-text-repr-fallback {display: none;}</style><div id=\"sk-container-id-1\" class=\"sk-top-container\"><div class=\"sk-text-repr-fallback\"><pre>ColumnTransformer(transformers=[(&#x27;num_transformer&#x27;, StandardScaler(),\n",
       "                                 Index([&#x27;person_capacity&#x27;, &#x27;cleanliness_rating&#x27;, &#x27;guest_satisfaction_overall&#x27;,\n",
       "       &#x27;bedrooms&#x27;, &#x27;dist&#x27;, &#x27;metro_dist&#x27;],\n",
       "      dtype=&#x27;object&#x27;)),\n",
       "                                (&#x27;cat_transformer&#x27;,\n",
       "                                 OneHotEncoder(drop=&#x27;if_binary&#x27;,\n",
       "                                               handle_unknown=&#x27;ignore&#x27;),\n",
       "                                 Index([&#x27;room_type&#x27;, &#x27;room_shared&#x27;, &#x27;host_is_superhost&#x27;, &#x27;weekday_weekend&#x27;,\n",
       "       &#x27;city&#x27;],\n",
       "      dtype=&#x27;object&#x27;))])</pre><b>In a Jupyter environment, please rerun this cell to show the HTML representation or trust the notebook. <br />On GitHub, the HTML representation is unable to render, please try loading this page with nbviewer.org.</b></div><div class=\"sk-container\" hidden><div class=\"sk-item sk-dashed-wrapped\"><div class=\"sk-label-container\"><div class=\"sk-label sk-toggleable\"><input class=\"sk-toggleable__control sk-hidden--visually\" id=\"sk-estimator-id-1\" type=\"checkbox\" ><label for=\"sk-estimator-id-1\" class=\"sk-toggleable__label sk-toggleable__label-arrow\">ColumnTransformer</label><div class=\"sk-toggleable__content\"><pre>ColumnTransformer(transformers=[(&#x27;num_transformer&#x27;, StandardScaler(),\n",
       "                                 Index([&#x27;person_capacity&#x27;, &#x27;cleanliness_rating&#x27;, &#x27;guest_satisfaction_overall&#x27;,\n",
       "       &#x27;bedrooms&#x27;, &#x27;dist&#x27;, &#x27;metro_dist&#x27;],\n",
       "      dtype=&#x27;object&#x27;)),\n",
       "                                (&#x27;cat_transformer&#x27;,\n",
       "                                 OneHotEncoder(drop=&#x27;if_binary&#x27;,\n",
       "                                               handle_unknown=&#x27;ignore&#x27;),\n",
       "                                 Index([&#x27;room_type&#x27;, &#x27;room_shared&#x27;, &#x27;host_is_superhost&#x27;, &#x27;weekday_weekend&#x27;,\n",
       "       &#x27;city&#x27;],\n",
       "      dtype=&#x27;object&#x27;))])</pre></div></div></div><div class=\"sk-parallel\"><div class=\"sk-parallel-item\"><div class=\"sk-item\"><div class=\"sk-label-container\"><div class=\"sk-label sk-toggleable\"><input class=\"sk-toggleable__control sk-hidden--visually\" id=\"sk-estimator-id-2\" type=\"checkbox\" ><label for=\"sk-estimator-id-2\" class=\"sk-toggleable__label sk-toggleable__label-arrow\">num_transformer</label><div class=\"sk-toggleable__content\"><pre>Index([&#x27;person_capacity&#x27;, &#x27;cleanliness_rating&#x27;, &#x27;guest_satisfaction_overall&#x27;,\n",
       "       &#x27;bedrooms&#x27;, &#x27;dist&#x27;, &#x27;metro_dist&#x27;],\n",
       "      dtype=&#x27;object&#x27;)</pre></div></div></div><div class=\"sk-serial\"><div class=\"sk-item\"><div class=\"sk-estimator sk-toggleable\"><input class=\"sk-toggleable__control sk-hidden--visually\" id=\"sk-estimator-id-3\" type=\"checkbox\" ><label for=\"sk-estimator-id-3\" class=\"sk-toggleable__label sk-toggleable__label-arrow\">StandardScaler</label><div class=\"sk-toggleable__content\"><pre>StandardScaler()</pre></div></div></div></div></div></div><div class=\"sk-parallel-item\"><div class=\"sk-item\"><div class=\"sk-label-container\"><div class=\"sk-label sk-toggleable\"><input class=\"sk-toggleable__control sk-hidden--visually\" id=\"sk-estimator-id-4\" type=\"checkbox\" ><label for=\"sk-estimator-id-4\" class=\"sk-toggleable__label sk-toggleable__label-arrow\">cat_transformer</label><div class=\"sk-toggleable__content\"><pre>Index([&#x27;room_type&#x27;, &#x27;room_shared&#x27;, &#x27;host_is_superhost&#x27;, &#x27;weekday_weekend&#x27;,\n",
       "       &#x27;city&#x27;],\n",
       "      dtype=&#x27;object&#x27;)</pre></div></div></div><div class=\"sk-serial\"><div class=\"sk-item\"><div class=\"sk-estimator sk-toggleable\"><input class=\"sk-toggleable__control sk-hidden--visually\" id=\"sk-estimator-id-5\" type=\"checkbox\" ><label for=\"sk-estimator-id-5\" class=\"sk-toggleable__label sk-toggleable__label-arrow\">OneHotEncoder</label><div class=\"sk-toggleable__content\"><pre>OneHotEncoder(drop=&#x27;if_binary&#x27;, handle_unknown=&#x27;ignore&#x27;)</pre></div></div></div></div></div></div></div></div></div></div>"
      ],
      "text/plain": [
       "ColumnTransformer(transformers=[('num_transformer', StandardScaler(),\n",
       "                                 Index(['person_capacity', 'cleanliness_rating', 'guest_satisfaction_overall',\n",
       "       'bedrooms', 'dist', 'metro_dist'],\n",
       "      dtype='object')),\n",
       "                                ('cat_transformer',\n",
       "                                 OneHotEncoder(drop='if_binary',\n",
       "                                               handle_unknown='ignore'),\n",
       "                                 Index(['room_type', 'room_shared', 'host_is_superhost', 'weekday_weekend',\n",
       "       'city'],\n",
       "      dtype='object'))])"
      ]
     },
     "execution_count": 13,
     "metadata": {},
     "output_type": "execute_result"
    }
   ],
   "source": [
    "num_transformer = StandardScaler()\n",
    "\n",
    "cat_transformer = OneHotEncoder(handle_unknown='ignore', drop='if_binary')\n",
    "\n",
    "preprocessor = ColumnTransformer([\n",
    "    ('num_transformer', num_transformer, X_num_col),\n",
    "    ('cat_transformer', cat_transformer, X_str_col)\n",
    "])\n",
    "\n",
    "preprocessor"
   ]
  },
  {
   "cell_type": "code",
   "execution_count": 14,
   "id": "81099d1f",
   "metadata": {
    "ExecuteTime": {
     "end_time": "2023-06-09T20:24:26.093705Z",
     "start_time": "2023-06-09T20:24:25.964198Z"
    }
   },
   "outputs": [
    {
     "name": "stdout",
     "output_type": "stream",
     "text": [
      "X_train\n"
     ]
    },
    {
     "data": {
      "text/html": [
       "<div>\n",
       "<style scoped>\n",
       "    .dataframe tbody tr th:only-of-type {\n",
       "        vertical-align: middle;\n",
       "    }\n",
       "\n",
       "    .dataframe tbody tr th {\n",
       "        vertical-align: top;\n",
       "    }\n",
       "\n",
       "    .dataframe thead th {\n",
       "        text-align: right;\n",
       "    }\n",
       "</style>\n",
       "<table border=\"1\" class=\"dataframe\">\n",
       "  <thead>\n",
       "    <tr style=\"text-align: right;\">\n",
       "      <th></th>\n",
       "      <th>room_type</th>\n",
       "      <th>room_shared</th>\n",
       "      <th>person_capacity</th>\n",
       "      <th>host_is_superhost</th>\n",
       "      <th>cleanliness_rating</th>\n",
       "      <th>guest_satisfaction_overall</th>\n",
       "      <th>bedrooms</th>\n",
       "      <th>dist</th>\n",
       "      <th>metro_dist</th>\n",
       "      <th>weekday_weekend</th>\n",
       "      <th>city</th>\n",
       "    </tr>\n",
       "  </thead>\n",
       "  <tbody>\n",
       "    <tr>\n",
       "      <th>2461</th>\n",
       "      <td>Entire home/apt</td>\n",
       "      <td>False</td>\n",
       "      <td>2.0</td>\n",
       "      <td>False</td>\n",
       "      <td>9.0</td>\n",
       "      <td>90.0</td>\n",
       "      <td>1</td>\n",
       "      <td>5.534083</td>\n",
       "      <td>0.267605</td>\n",
       "      <td>weekend</td>\n",
       "      <td>paris</td>\n",
       "    </tr>\n",
       "    <tr>\n",
       "      <th>246</th>\n",
       "      <td>Private room</td>\n",
       "      <td>False</td>\n",
       "      <td>2.0</td>\n",
       "      <td>False</td>\n",
       "      <td>8.0</td>\n",
       "      <td>88.0</td>\n",
       "      <td>1</td>\n",
       "      <td>1.058492</td>\n",
       "      <td>0.358618</td>\n",
       "      <td>weekday</td>\n",
       "      <td>barcelona</td>\n",
       "    </tr>\n",
       "    <tr>\n",
       "      <th>416</th>\n",
       "      <td>Entire home/apt</td>\n",
       "      <td>False</td>\n",
       "      <td>5.0</td>\n",
       "      <td>False</td>\n",
       "      <td>9.0</td>\n",
       "      <td>91.0</td>\n",
       "      <td>1</td>\n",
       "      <td>0.931242</td>\n",
       "      <td>0.343834</td>\n",
       "      <td>weekday</td>\n",
       "      <td>budapest</td>\n",
       "    </tr>\n",
       "    <tr>\n",
       "      <th>943</th>\n",
       "      <td>Private room</td>\n",
       "      <td>False</td>\n",
       "      <td>2.0</td>\n",
       "      <td>False</td>\n",
       "      <td>9.0</td>\n",
       "      <td>98.0</td>\n",
       "      <td>1</td>\n",
       "      <td>3.576476</td>\n",
       "      <td>1.054139</td>\n",
       "      <td>weekend</td>\n",
       "      <td>amsterdam</td>\n",
       "    </tr>\n",
       "    <tr>\n",
       "      <th>1262</th>\n",
       "      <td>Entire home/apt</td>\n",
       "      <td>False</td>\n",
       "      <td>6.0</td>\n",
       "      <td>True</td>\n",
       "      <td>9.0</td>\n",
       "      <td>100.0</td>\n",
       "      <td>2</td>\n",
       "      <td>2.248307</td>\n",
       "      <td>0.196889</td>\n",
       "      <td>weekend</td>\n",
       "      <td>lisbon</td>\n",
       "    </tr>\n",
       "  </tbody>\n",
       "</table>\n",
       "</div>"
      ],
      "text/plain": [
       "            room_type  room_shared  person_capacity  host_is_superhost  \\\n",
       "2461  Entire home/apt        False              2.0              False   \n",
       "246      Private room        False              2.0              False   \n",
       "416   Entire home/apt        False              5.0              False   \n",
       "943      Private room        False              2.0              False   \n",
       "1262  Entire home/apt        False              6.0               True   \n",
       "\n",
       "      cleanliness_rating  guest_satisfaction_overall  bedrooms      dist  \\\n",
       "2461                 9.0                        90.0         1  5.534083   \n",
       "246                  8.0                        88.0         1  1.058492   \n",
       "416                  9.0                        91.0         1  0.931242   \n",
       "943                  9.0                        98.0         1  3.576476   \n",
       "1262                 9.0                       100.0         2  2.248307   \n",
       "\n",
       "      metro_dist weekday_weekend       city  \n",
       "2461    0.267605         weekend      paris  \n",
       "246     0.358618         weekday  barcelona  \n",
       "416     0.343834         weekday   budapest  \n",
       "943     1.054139         weekend  amsterdam  \n",
       "1262    0.196889         weekend     lisbon  "
      ]
     },
     "metadata": {},
     "output_type": "display_data"
    },
    {
     "name": "stdout",
     "output_type": "stream",
     "text": [
      "(41365, 11)\n",
      "X_train_processed\n"
     ]
    },
    {
     "data": {
      "text/html": [
       "<div>\n",
       "<style scoped>\n",
       "    .dataframe tbody tr th:only-of-type {\n",
       "        vertical-align: middle;\n",
       "    }\n",
       "\n",
       "    .dataframe tbody tr th {\n",
       "        vertical-align: top;\n",
       "    }\n",
       "\n",
       "    .dataframe thead th {\n",
       "        text-align: right;\n",
       "    }\n",
       "</style>\n",
       "<table border=\"1\" class=\"dataframe\">\n",
       "  <thead>\n",
       "    <tr style=\"text-align: right;\">\n",
       "      <th></th>\n",
       "      <th>num_transformer__person_capacity</th>\n",
       "      <th>num_transformer__cleanliness_rating</th>\n",
       "      <th>num_transformer__guest_satisfaction_overall</th>\n",
       "      <th>num_transformer__bedrooms</th>\n",
       "      <th>num_transformer__dist</th>\n",
       "      <th>num_transformer__metro_dist</th>\n",
       "      <th>cat_transformer__room_type_Entire home/apt</th>\n",
       "      <th>cat_transformer__room_type_Private room</th>\n",
       "      <th>cat_transformer__room_type_Shared room</th>\n",
       "      <th>cat_transformer__room_shared_True</th>\n",
       "      <th>...</th>\n",
       "      <th>cat_transformer__city_amsterdam</th>\n",
       "      <th>cat_transformer__city_athens</th>\n",
       "      <th>cat_transformer__city_barcelona</th>\n",
       "      <th>cat_transformer__city_berlin</th>\n",
       "      <th>cat_transformer__city_budapest</th>\n",
       "      <th>cat_transformer__city_lisbon</th>\n",
       "      <th>cat_transformer__city_london</th>\n",
       "      <th>cat_transformer__city_paris</th>\n",
       "      <th>cat_transformer__city_rome</th>\n",
       "      <th>cat_transformer__city_vienna</th>\n",
       "    </tr>\n",
       "  </thead>\n",
       "  <tbody>\n",
       "    <tr>\n",
       "      <th>0</th>\n",
       "      <td>-0.895665</td>\n",
       "      <td>-0.411924</td>\n",
       "      <td>-0.291051</td>\n",
       "      <td>-0.253381</td>\n",
       "      <td>0.982629</td>\n",
       "      <td>-0.485021</td>\n",
       "      <td>1.0</td>\n",
       "      <td>0.0</td>\n",
       "      <td>0.0</td>\n",
       "      <td>0.0</td>\n",
       "      <td>...</td>\n",
       "      <td>0.0</td>\n",
       "      <td>0.0</td>\n",
       "      <td>0.0</td>\n",
       "      <td>0.0</td>\n",
       "      <td>0.0</td>\n",
       "      <td>0.0</td>\n",
       "      <td>0.0</td>\n",
       "      <td>1.0</td>\n",
       "      <td>0.0</td>\n",
       "      <td>0.0</td>\n",
       "    </tr>\n",
       "    <tr>\n",
       "      <th>1</th>\n",
       "      <td>-0.895665</td>\n",
       "      <td>-1.464247</td>\n",
       "      <td>-0.514150</td>\n",
       "      <td>-0.253381</td>\n",
       "      <td>-0.893114</td>\n",
       "      <td>-0.378183</td>\n",
       "      <td>0.0</td>\n",
       "      <td>1.0</td>\n",
       "      <td>0.0</td>\n",
       "      <td>0.0</td>\n",
       "      <td>...</td>\n",
       "      <td>0.0</td>\n",
       "      <td>0.0</td>\n",
       "      <td>1.0</td>\n",
       "      <td>0.0</td>\n",
       "      <td>0.0</td>\n",
       "      <td>0.0</td>\n",
       "      <td>0.0</td>\n",
       "      <td>0.0</td>\n",
       "      <td>0.0</td>\n",
       "      <td>0.0</td>\n",
       "    </tr>\n",
       "    <tr>\n",
       "      <th>2</th>\n",
       "      <td>1.416586</td>\n",
       "      <td>-0.411924</td>\n",
       "      <td>-0.179501</td>\n",
       "      <td>-0.253381</td>\n",
       "      <td>-0.946446</td>\n",
       "      <td>-0.395537</td>\n",
       "      <td>1.0</td>\n",
       "      <td>0.0</td>\n",
       "      <td>0.0</td>\n",
       "      <td>0.0</td>\n",
       "      <td>...</td>\n",
       "      <td>0.0</td>\n",
       "      <td>0.0</td>\n",
       "      <td>0.0</td>\n",
       "      <td>0.0</td>\n",
       "      <td>1.0</td>\n",
       "      <td>0.0</td>\n",
       "      <td>0.0</td>\n",
       "      <td>0.0</td>\n",
       "      <td>0.0</td>\n",
       "      <td>0.0</td>\n",
       "    </tr>\n",
       "    <tr>\n",
       "      <th>3</th>\n",
       "      <td>-0.895665</td>\n",
       "      <td>-0.411924</td>\n",
       "      <td>0.601346</td>\n",
       "      <td>-0.253381</td>\n",
       "      <td>0.162185</td>\n",
       "      <td>0.438281</td>\n",
       "      <td>0.0</td>\n",
       "      <td>1.0</td>\n",
       "      <td>0.0</td>\n",
       "      <td>0.0</td>\n",
       "      <td>...</td>\n",
       "      <td>1.0</td>\n",
       "      <td>0.0</td>\n",
       "      <td>0.0</td>\n",
       "      <td>0.0</td>\n",
       "      <td>0.0</td>\n",
       "      <td>0.0</td>\n",
       "      <td>0.0</td>\n",
       "      <td>0.0</td>\n",
       "      <td>0.0</td>\n",
       "      <td>0.0</td>\n",
       "    </tr>\n",
       "    <tr>\n",
       "      <th>4</th>\n",
       "      <td>2.187336</td>\n",
       "      <td>-0.411924</td>\n",
       "      <td>0.824445</td>\n",
       "      <td>1.337559</td>\n",
       "      <td>-0.394457</td>\n",
       "      <td>-0.568033</td>\n",
       "      <td>1.0</td>\n",
       "      <td>0.0</td>\n",
       "      <td>0.0</td>\n",
       "      <td>0.0</td>\n",
       "      <td>...</td>\n",
       "      <td>0.0</td>\n",
       "      <td>0.0</td>\n",
       "      <td>0.0</td>\n",
       "      <td>0.0</td>\n",
       "      <td>0.0</td>\n",
       "      <td>1.0</td>\n",
       "      <td>0.0</td>\n",
       "      <td>0.0</td>\n",
       "      <td>0.0</td>\n",
       "      <td>0.0</td>\n",
       "    </tr>\n",
       "  </tbody>\n",
       "</table>\n",
       "<p>5 rows × 22 columns</p>\n",
       "</div>"
      ],
      "text/plain": [
       "   num_transformer__person_capacity  num_transformer__cleanliness_rating  \\\n",
       "0                         -0.895665                            -0.411924   \n",
       "1                         -0.895665                            -1.464247   \n",
       "2                          1.416586                            -0.411924   \n",
       "3                         -0.895665                            -0.411924   \n",
       "4                          2.187336                            -0.411924   \n",
       "\n",
       "   num_transformer__guest_satisfaction_overall  num_transformer__bedrooms  \\\n",
       "0                                    -0.291051                  -0.253381   \n",
       "1                                    -0.514150                  -0.253381   \n",
       "2                                    -0.179501                  -0.253381   \n",
       "3                                     0.601346                  -0.253381   \n",
       "4                                     0.824445                   1.337559   \n",
       "\n",
       "   num_transformer__dist  num_transformer__metro_dist  \\\n",
       "0               0.982629                    -0.485021   \n",
       "1              -0.893114                    -0.378183   \n",
       "2              -0.946446                    -0.395537   \n",
       "3               0.162185                     0.438281   \n",
       "4              -0.394457                    -0.568033   \n",
       "\n",
       "   cat_transformer__room_type_Entire home/apt  \\\n",
       "0                                         1.0   \n",
       "1                                         0.0   \n",
       "2                                         1.0   \n",
       "3                                         0.0   \n",
       "4                                         1.0   \n",
       "\n",
       "   cat_transformer__room_type_Private room  \\\n",
       "0                                      0.0   \n",
       "1                                      1.0   \n",
       "2                                      0.0   \n",
       "3                                      1.0   \n",
       "4                                      0.0   \n",
       "\n",
       "   cat_transformer__room_type_Shared room  cat_transformer__room_shared_True  \\\n",
       "0                                     0.0                                0.0   \n",
       "1                                     0.0                                0.0   \n",
       "2                                     0.0                                0.0   \n",
       "3                                     0.0                                0.0   \n",
       "4                                     0.0                                0.0   \n",
       "\n",
       "   ...  cat_transformer__city_amsterdam  cat_transformer__city_athens  \\\n",
       "0  ...                              0.0                           0.0   \n",
       "1  ...                              0.0                           0.0   \n",
       "2  ...                              0.0                           0.0   \n",
       "3  ...                              1.0                           0.0   \n",
       "4  ...                              0.0                           0.0   \n",
       "\n",
       "   cat_transformer__city_barcelona  cat_transformer__city_berlin  \\\n",
       "0                              0.0                           0.0   \n",
       "1                              1.0                           0.0   \n",
       "2                              0.0                           0.0   \n",
       "3                              0.0                           0.0   \n",
       "4                              0.0                           0.0   \n",
       "\n",
       "   cat_transformer__city_budapest  cat_transformer__city_lisbon  \\\n",
       "0                             0.0                           0.0   \n",
       "1                             0.0                           0.0   \n",
       "2                             1.0                           0.0   \n",
       "3                             0.0                           0.0   \n",
       "4                             0.0                           1.0   \n",
       "\n",
       "   cat_transformer__city_london  cat_transformer__city_paris  \\\n",
       "0                           0.0                          1.0   \n",
       "1                           0.0                          0.0   \n",
       "2                           0.0                          0.0   \n",
       "3                           0.0                          0.0   \n",
       "4                           0.0                          0.0   \n",
       "\n",
       "   cat_transformer__city_rome  cat_transformer__city_vienna  \n",
       "0                         0.0                           0.0  \n",
       "1                         0.0                           0.0  \n",
       "2                         0.0                           0.0  \n",
       "3                         0.0                           0.0  \n",
       "4                         0.0                           0.0  \n",
       "\n",
       "[5 rows x 22 columns]"
      ]
     },
     "metadata": {},
     "output_type": "display_data"
    },
    {
     "name": "stdout",
     "output_type": "stream",
     "text": [
      "(41365, 22)\n"
     ]
    }
   ],
   "source": [
    "X_train_transformed = preprocessor.fit_transform(X_train)\n",
    "\n",
    "print(\"X_train\")\n",
    "display(X_train.head())\n",
    "print(X_train.shape)\n",
    "\n",
    "print(\"X_train_processed\")\n",
    "display(pd.DataFrame(\n",
    "    X_train_transformed, \n",
    "    columns=preprocessor.get_feature_names_out()\n",
    ").head())\n",
    "print(X_train_transformed.shape)"
   ]
  },
  {
   "cell_type": "markdown",
   "id": "faf35391",
   "metadata": {},
   "source": [
    "# Neural Network"
   ]
  },
  {
   "cell_type": "code",
   "execution_count": 15,
   "id": "55f0f725",
   "metadata": {
    "ExecuteTime": {
     "end_time": "2023-06-09T20:24:26.243614Z",
     "start_time": "2023-06-09T20:24:26.097091Z"
    }
   },
   "outputs": [],
   "source": [
    "model = models.Sequential()\n",
    "    \n",
    "model.add(layers.Dense(20, activation='relu', input_dim = X_train_transformed.shape[-1]))\n",
    "\n",
    "model.add(layers.Dense(10, activation='relu'))\n",
    "model.add(layers.Dropout(0.3))\n",
    "model.add(layers.Dense(10, activation='relu'))\n",
    "model.add(layers.Dropout(0.3))\n",
    "model.add(layers.Dense(5, activation='relu',  kernel_regularizer = L1(0.3)))\n",
    "model.add(layers.Dropout(0.3))\n",
    "model.add(layers.Dense(1, activation='linear'))\n",
    "\n",
    "model.compile(optimizer='adam',\n",
    "              loss='msle')"
   ]
  },
  {
   "cell_type": "code",
   "execution_count": 16,
   "id": "ab490942",
   "metadata": {
    "ExecuteTime": {
     "end_time": "2023-06-09T20:26:18.635605Z",
     "start_time": "2023-06-09T20:24:26.246393Z"
    },
    "scrolled": false
   },
   "outputs": [
    {
     "name": "stdout",
     "output_type": "stream",
     "text": [
      "Epoch 1/20\n",
      "1810/1810 [==============================] - 6s 3ms/step - loss: 7.7141 - val_loss: 0.9815\n",
      "Epoch 2/20\n",
      "1810/1810 [==============================] - 6s 3ms/step - loss: 3.0115 - val_loss: 0.4427\n",
      "Epoch 3/20\n",
      "1810/1810 [==============================] - 6s 3ms/step - loss: 2.3693 - val_loss: 0.3343\n",
      "Epoch 4/20\n",
      "1810/1810 [==============================] - 6s 3ms/step - loss: 2.0217 - val_loss: 0.2478\n",
      "Epoch 5/20\n",
      "1810/1810 [==============================] - 6s 3ms/step - loss: 1.3283 - val_loss: 0.2760\n",
      "Epoch 6/20\n",
      "1810/1810 [==============================] - 6s 3ms/step - loss: 0.9323 - val_loss: 0.2170\n",
      "Epoch 7/20\n",
      "1810/1810 [==============================] - 6s 3ms/step - loss: 0.8502 - val_loss: 0.2104\n",
      "Epoch 8/20\n",
      "1810/1810 [==============================] - 6s 3ms/step - loss: 0.6117 - val_loss: 0.2450\n",
      "Epoch 9/20\n",
      "1810/1810 [==============================] - 6s 3ms/step - loss: 0.5622 - val_loss: 0.2002\n",
      "Epoch 10/20\n",
      "1810/1810 [==============================] - 6s 3ms/step - loss: 0.5218 - val_loss: 0.1826\n",
      "Epoch 11/20\n",
      "1810/1810 [==============================] - 6s 3ms/step - loss: 0.5055 - val_loss: 0.1769\n",
      "Epoch 12/20\n",
      "1810/1810 [==============================] - 6s 3ms/step - loss: 0.4759 - val_loss: 0.2393\n",
      "Epoch 13/20\n",
      "1810/1810 [==============================] - 6s 3ms/step - loss: 0.4434 - val_loss: 0.1785\n",
      "Epoch 14/20\n",
      "1810/1810 [==============================] - 6s 3ms/step - loss: 0.4293 - val_loss: 0.1724\n",
      "Epoch 15/20\n",
      "1810/1810 [==============================] - 6s 3ms/step - loss: 0.4116 - val_loss: 0.1954\n",
      "Epoch 16/20\n",
      "1810/1810 [==============================] - 6s 3ms/step - loss: 0.3745 - val_loss: 0.1707\n",
      "Epoch 17/20\n",
      "1810/1810 [==============================] - 6s 3ms/step - loss: 0.3528 - val_loss: 0.1707\n",
      "Epoch 18/20\n",
      "1810/1810 [==============================] - 6s 3ms/step - loss: 0.3385 - val_loss: 0.1771\n",
      "Epoch 19/20\n",
      "1810/1810 [==============================] - 6s 3ms/step - loss: 0.3214 - val_loss: 0.1626\n",
      "Epoch 20/20\n",
      "1810/1810 [==============================] - 6s 3ms/step - loss: 0.3266 - val_loss: 0.1756\n"
     ]
    }
   ],
   "source": [
    "es = EarlyStopping(patience=10, restore_best_weights=True)\n",
    "epochs = 20\n",
    "batch_size = 16\n",
    "\n",
    "history = model.fit(X_train_transformed, \n",
    "                    y_train,\n",
    "                    validation_split=0.3,\n",
    "                    epochs = epochs,         \n",
    "                    batch_size = batch_size,\n",
    "                    callbacks=[es],\n",
    "                    verbose = 1)"
   ]
  },
  {
   "cell_type": "code",
   "execution_count": 17,
   "id": "a7743b67",
   "metadata": {
    "ExecuteTime": {
     "end_time": "2023-06-09T20:26:18.777115Z",
     "start_time": "2023-06-09T20:26:18.640579Z"
    }
   },
   "outputs": [
    {
     "data": {
      "image/png": "[encoded data removed]",
      "text/plain": [
       "<Figure size 640x480 with 1 Axes>"
      ]
     },
     "metadata": {},
     "output_type": "display_data"
    }
   ],
   "source": [
    "def plot_history(history):\n",
    "    plt.plot(np.sqrt(history.history['loss']))\n",
    "    plt.plot(np.sqrt(history.history['val_loss']))\n",
    "    plt.title('Model Loss')\n",
    "    plt.ylabel('RMSLE')\n",
    "    plt.xlabel('Epoch')\n",
    "    plt.legend(['Train', 'Val'], loc='best')\n",
    "    plt.show()\n",
    "    \n",
    "plot_history(history)"
   ]
  },
  {
   "cell_type": "code",
   "execution_count": 18,
   "id": "56bd1e94",
   "metadata": {
    "ExecuteTime": {
     "end_time": "2023-06-09T20:26:18.809866Z",
     "start_time": "2023-06-09T20:26:18.780697Z"
    }
   },
   "outputs": [],
   "source": [
    "X_test_transformed = preprocessor.transform(X_test)"
   ]
  },
  {
   "cell_type": "code",
   "execution_count": 19,
   "id": "90a916fc",
   "metadata": {
    "ExecuteTime": {
     "end_time": "2023-06-09T20:26:19.481590Z",
     "start_time": "2023-06-09T20:26:18.813547Z"
    }
   },
   "outputs": [
    {
     "name": "stdout",
     "output_type": "stream",
     "text": [
      "324/324 [==============================] - 1s 2ms/step - loss: 0.1688\n",
      "RMSLE evaluated on test set is 0.41\n"
     ]
    }
   ],
   "source": [
    "res = model.evaluate(X_test_transformed, y_test)**0.5\n",
    "print(f'RMSLE evaluated on test set is {round(res, 2)}')"
   ]
  },
  {
   "cell_type": "markdown",
   "id": "7c605e77",
   "metadata": {},
   "source": [
    "# How much would this airbnb cost according to the model?"
   ]
  },
  {
   "cell_type": "code",
   "execution_count": 20,
   "id": "5dacf863",
   "metadata": {
    "ExecuteTime": {
     "end_time": "2023-06-09T20:26:19.489799Z",
     "start_time": "2023-06-09T20:26:19.484166Z"
    }
   },
   "outputs": [],
   "source": [
    "random = np.random.randint(0,len(X_test), 1)"
   ]
  },
  {
   "cell_type": "code",
   "execution_count": 21,
   "id": "4f637c50",
   "metadata": {
    "ExecuteTime": {
     "end_time": "2023-06-09T20:26:19.516245Z",
     "start_time": "2023-06-09T20:26:19.492709Z"
    }
   },
   "outputs": [
    {
     "data": {
      "text/html": [
       "<div>\n",
       "<style scoped>\n",
       "    .dataframe tbody tr th:only-of-type {\n",
       "        vertical-align: middle;\n",
       "    }\n",
       "\n",
       "    .dataframe tbody tr th {\n",
       "        vertical-align: top;\n",
       "    }\n",
       "\n",
       "    .dataframe thead th {\n",
       "        text-align: right;\n",
       "    }\n",
       "</style>\n",
       "<table border=\"1\" class=\"dataframe\">\n",
       "  <thead>\n",
       "    <tr style=\"text-align: right;\">\n",
       "      <th></th>\n",
       "      <th>room_type</th>\n",
       "      <th>room_shared</th>\n",
       "      <th>person_capacity</th>\n",
       "      <th>host_is_superhost</th>\n",
       "      <th>cleanliness_rating</th>\n",
       "      <th>guest_satisfaction_overall</th>\n",
       "      <th>bedrooms</th>\n",
       "      <th>dist</th>\n",
       "      <th>metro_dist</th>\n",
       "      <th>weekday_weekend</th>\n",
       "      <th>city</th>\n",
       "    </tr>\n",
       "  </thead>\n",
       "  <tbody>\n",
       "    <tr>\n",
       "      <th>1292</th>\n",
       "      <td>Private room</td>\n",
       "      <td>False</td>\n",
       "      <td>2.0</td>\n",
       "      <td>False</td>\n",
       "      <td>9.0</td>\n",
       "      <td>86.0</td>\n",
       "      <td>1</td>\n",
       "      <td>7.934426</td>\n",
       "      <td>1.727945</td>\n",
       "      <td>weekday</td>\n",
       "      <td>vienna</td>\n",
       "    </tr>\n",
       "  </tbody>\n",
       "</table>\n",
       "</div>"
      ],
      "text/plain": [
       "         room_type  room_shared  person_capacity  host_is_superhost  \\\n",
       "1292  Private room        False              2.0              False   \n",
       "\n",
       "      cleanliness_rating  guest_satisfaction_overall  bedrooms      dist  \\\n",
       "1292                 9.0                        86.0         1  7.934426   \n",
       "\n",
       "      metro_dist weekday_weekend    city  \n",
       "1292    1.727945         weekday  vienna  "
      ]
     },
     "execution_count": 21,
     "metadata": {},
     "output_type": "execute_result"
    }
   ],
   "source": [
    "X_test_example = X_test.iloc[random]\n",
    "X_test_example"
   ]
  },
  {
   "cell_type": "markdown",
   "id": "e19d5bc0",
   "metadata": {},
   "source": [
    "## Predicted price is..."
   ]
  },
  {
   "cell_type": "code",
   "execution_count": 22,
   "id": "e6ccde63",
   "metadata": {
    "ExecuteTime": {
     "end_time": "2023-06-09T20:26:19.690546Z",
     "start_time": "2023-06-09T20:26:19.520186Z"
    },
    "scrolled": true
   },
   "outputs": [
    {
     "name": "stdout",
     "output_type": "stream",
     "text": [
      "1/1 [==============================] - 0s 101ms/step\n"
     ]
    },
    {
     "data": {
      "text/plain": [
       "array([[137.68843]], dtype=float32)"
      ]
     },
     "execution_count": 22,
     "metadata": {},
     "output_type": "execute_result"
    }
   ],
   "source": [
    "example_transformed = preprocessor.transform(X_test_example)\n",
    "model.predict(example_transformed)"
   ]
  },
  {
   "cell_type": "markdown",
   "id": "0350eb46",
   "metadata": {},
   "source": [
    "## True price is...."
   ]
  },
  {
   "cell_type": "code",
   "execution_count": 23,
   "id": "53b98238",
   "metadata": {
    "ExecuteTime": {
     "end_time": "2023-06-09T20:26:19.705673Z",
     "start_time": "2023-06-09T20:26:19.694810Z"
    }
   },
   "outputs": [
    {
     "data": {
      "text/html": [
       "<div>\n",
       "<style scoped>\n",
       "    .dataframe tbody tr th:only-of-type {\n",
       "        vertical-align: middle;\n",
       "    }\n",
       "\n",
       "    .dataframe tbody tr th {\n",
       "        vertical-align: top;\n",
       "    }\n",
       "\n",
       "    .dataframe thead th {\n",
       "        text-align: right;\n",
       "    }\n",
       "</style>\n",
       "<table border=\"1\" class=\"dataframe\">\n",
       "  <thead>\n",
       "    <tr style=\"text-align: right;\">\n",
       "      <th></th>\n",
       "      <th>realSum</th>\n",
       "    </tr>\n",
       "  </thead>\n",
       "  <tbody>\n",
       "    <tr>\n",
       "      <th>1292</th>\n",
       "      <td>119.439964</td>\n",
       "    </tr>\n",
       "  </tbody>\n",
       "</table>\n",
       "</div>"
      ],
      "text/plain": [
       "         realSum\n",
       "1292  119.439964"
      ]
     },
     "execution_count": 23,
     "metadata": {},
     "output_type": "execute_result"
    }
   ],
   "source": [
    "pd.DataFrame(y_test).iloc[random]"
   ]
  }
 ],
 "metadata": {
  "kernelspec": {
   "display_name": "Python 3 (ipykernel)",
   "language": "python",
   "name": "python3"
  },
  "language_info": {
   "codemirror_mode": {
    "name": "ipython",
    "version": 3
   },
   "file_extension": ".py",
   "mimetype": "text/x-python",
   "name": "python",
   "nbconvert_exporter": "python",
   "pygments_lexer": "ipython3",
   "version": "3.10.6"
  },
  "toc": {
   "base_numbering": 1,
   "nav_menu": {},
   "number_sections": true,
   "sideBar": true,
   "skip_h1_title": false,
   "title_cell": "Table of Contents",
   "title_sidebar": "Contents",
   "toc_cell": false,
   "toc_position": {},
   "toc_section_display": true,
   "toc_window_display": false
  }
 },
 "nbformat": 4,
 "nbformat_minor": 5
}
