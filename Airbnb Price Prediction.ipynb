{
 "cells": [
  {
   "cell_type": "markdown",
   "id": "c1b8e4a0",
   "metadata": {},
   "source": [
    "# Imports"
   ]
  },
  {
   "cell_type": "code",
   "execution_count": 1,
   "id": "75b1ca31",
   "metadata": {
    "ExecuteTime": {
     "end_time": "2023-06-09T20:14:13.345615Z",
     "start_time": "2023-06-09T20:14:10.086957Z"
    }
   },
   "outputs": [
    {
     "name": "stderr",
     "output_type": "stream",
     "text": [
      "2023-06-09 22:14:11.934985: E tensorflow/stream_executor/cuda/cuda_blas.cc:2981] Unable to register cuBLAS factory: Attempting to register factory for plugin cuBLAS when one has already been registered\n"
     ]
    }
   ],
   "source": [
    "import os\n",
    "import glob\n",
    "import pandas as pd\n",
    "import numpy as np\n",
    "import seaborn as sns\n",
    "import matplotlib.pyplot as plt\n",
    "%matplotlib inline\n",
    "\n",
    "\n",
    "from sklearn.model_selection import train_test_split\n",
    "from sklearn.impute import SimpleImputer\n",
    "from sklearn.preprocessing import StandardScaler\n",
    "from sklearn.compose import ColumnTransformer\n",
    "from sklearn.preprocessing import OneHotEncoder\n",
    "from sklearn.linear_model import Ridge\n",
    "from sklearn.pipeline import make_pipeline\n",
    "\n",
    "from tensorflow.keras import models, layers\n",
    "from tensorflow.keras.callbacks import EarlyStopping\n",
    "from tensorflow.keras.regularizers import L1"
   ]
  },
  {
   "cell_type": "markdown",
   "id": "fcd5ca3a",
   "metadata": {},
   "source": [
    "# Get Data"
   ]
  },
  {
   "cell_type": "markdown",
   "id": "1a6bfaf9",
   "metadata": {},
   "source": [
    "Data is from kaggle https://www.kaggle.com/datasets/thedevastator/airbnb-prices-in-european-cities"
   ]
  },
  {
   "attachments": {
    "image.png": {
     "image/png": "[encoded data removed]"
    }
   },
   "cell_type": "markdown",
   "id": "bf9d4e6c",
   "metadata": {},
   "source": [
    "Data folder in this directory looks like this : 20 files with name city-weekends(or weekdays).csv\n",
    "![image.png](attachment:image.png)"
   ]
  },
  {
   "cell_type": "markdown",
   "id": "531965a2",
   "metadata": {
    "ExecuteTime": {
     "end_time": "2023-06-09T12:58:36.580665Z",
     "start_time": "2023-06-09T12:58:36.573219Z"
    }
   },
   "source": [
    "Make a concatenated dataframe with a new column 'filename'"
   ]
  },
  {
   "cell_type": "code",
   "execution_count": 2,
   "id": "d601515e",
   "metadata": {
    "ExecuteTime": {
     "end_time": "2023-06-09T20:14:13.513634Z",
     "start_time": "2023-06-09T20:14:13.348306Z"
    }
   },
   "outputs": [],
   "source": [
    "globbed_files = glob.glob(\"data/*.csv\")\n",
    "data=[]\n",
    "for csv in globbed_files:\n",
    "    frame = pd.read_csv(csv)\n",
    "    frame['filename'] = os.path.basename(csv)\n",
    "    data.append(frame)"
   ]
  },
  {
   "cell_type": "code",
   "execution_count": 3,
   "id": "404f630f",
   "metadata": {
    "ExecuteTime": {
     "end_time": "2023-06-09T20:14:13.539352Z",
     "start_time": "2023-06-09T20:14:13.518823Z"
    },
    "scrolled": true
   },
   "outputs": [],
   "source": [
    "df = pd.concat(data)"
   ]
  },
  {
   "cell_type": "markdown",
   "id": "664b3fd2",
   "metadata": {
    "ExecuteTime": {
     "end_time": "2023-06-09T12:59:30.606639Z",
     "start_time": "2023-06-09T12:59:30.599652Z"
    }
   },
   "source": [
    "Make new columns 'weekday_weekend' & 'city', as they are the information we need from the filenames"
   ]
  },
  {
   "cell_type": "code",
   "execution_count": 4,
   "id": "114a2c6a",
   "metadata": {
    "ExecuteTime": {
     "end_time": "2023-06-09T20:14:13.592486Z",
     "start_time": "2023-06-09T20:14:13.542829Z"
    }
   },
   "outputs": [],
   "source": [
    "df['weekday_weekend'] = df['filename'].map(lambda x: x.split('_')[1].rstrip('.csv'))\n",
    "df['city'] = df['filename'].map(lambda x: x.split('_')[0])"
   ]
  },
  {
   "cell_type": "code",
   "execution_count": 5,
   "id": "27e009f5",
   "metadata": {
    "ExecuteTime": {
     "end_time": "2023-06-09T20:14:13.607388Z",
     "start_time": "2023-06-09T20:14:13.596320Z"
    }
   },
   "outputs": [],
   "source": [
    "#removing unnecessary columns for this analysis\n",
    "df = df.drop(columns=['multi','biz','filename', 'Unnamed: 0', 'attr_index','attr_index_norm', 'rest_index', 'rest_index_norm', 'lng', 'lat'])"
   ]
  },
  {
   "cell_type": "code",
   "execution_count": 6,
   "id": "1c196b18",
   "metadata": {
    "ExecuteTime": {
     "end_time": "2023-06-09T20:14:13.632874Z",
     "start_time": "2023-06-09T20:14:13.610489Z"
    }
   },
   "outputs": [
    {
     "data": {
      "text/html": [
       "<div>\n",
       "<style scoped>\n",
       "    .dataframe tbody tr th:only-of-type {\n",
       "        vertical-align: middle;\n",
       "    }\n",
       "\n",
       "    .dataframe tbody tr th {\n",
       "        vertical-align: top;\n",
       "    }\n",
       "\n",
       "    .dataframe thead th {\n",
       "        text-align: right;\n",
       "    }\n",
       "</style>\n",
       "<table border=\"1\" class=\"dataframe\">\n",
       "  <thead>\n",
       "    <tr style=\"text-align: right;\">\n",
       "      <th></th>\n",
       "      <th>realSum</th>\n",
       "      <th>room_type</th>\n",
       "      <th>room_shared</th>\n",
       "      <th>room_private</th>\n",
       "      <th>person_capacity</th>\n",
       "      <th>host_is_superhost</th>\n",
       "      <th>cleanliness_rating</th>\n",
       "      <th>guest_satisfaction_overall</th>\n",
       "      <th>bedrooms</th>\n",
       "      <th>dist</th>\n",
       "      <th>metro_dist</th>\n",
       "      <th>weekday_weekend</th>\n",
       "      <th>city</th>\n",
       "    </tr>\n",
       "  </thead>\n",
       "  <tbody>\n",
       "    <tr>\n",
       "      <th>0</th>\n",
       "      <td>332.048691</td>\n",
       "      <td>Entire home/apt</td>\n",
       "      <td>False</td>\n",
       "      <td>False</td>\n",
       "      <td>6.0</td>\n",
       "      <td>True</td>\n",
       "      <td>10.0</td>\n",
       "      <td>99.0</td>\n",
       "      <td>1</td>\n",
       "      <td>0.359372</td>\n",
       "      <td>0.352662</td>\n",
       "      <td>weekend</td>\n",
       "      <td>budapest</td>\n",
       "    </tr>\n",
       "    <tr>\n",
       "      <th>1</th>\n",
       "      <td>331.108709</td>\n",
       "      <td>Entire home/apt</td>\n",
       "      <td>False</td>\n",
       "      <td>False</td>\n",
       "      <td>6.0</td>\n",
       "      <td>False</td>\n",
       "      <td>9.0</td>\n",
       "      <td>98.0</td>\n",
       "      <td>2</td>\n",
       "      <td>0.929438</td>\n",
       "      <td>0.200219</td>\n",
       "      <td>weekend</td>\n",
       "      <td>budapest</td>\n",
       "    </tr>\n",
       "    <tr>\n",
       "      <th>2</th>\n",
       "      <td>243.925365</td>\n",
       "      <td>Entire home/apt</td>\n",
       "      <td>False</td>\n",
       "      <td>False</td>\n",
       "      <td>6.0</td>\n",
       "      <td>False</td>\n",
       "      <td>10.0</td>\n",
       "      <td>95.0</td>\n",
       "      <td>2</td>\n",
       "      <td>0.674318</td>\n",
       "      <td>0.314709</td>\n",
       "      <td>weekend</td>\n",
       "      <td>budapest</td>\n",
       "    </tr>\n",
       "    <tr>\n",
       "      <th>3</th>\n",
       "      <td>206.561075</td>\n",
       "      <td>Entire home/apt</td>\n",
       "      <td>False</td>\n",
       "      <td>False</td>\n",
       "      <td>5.0</td>\n",
       "      <td>True</td>\n",
       "      <td>10.0</td>\n",
       "      <td>99.0</td>\n",
       "      <td>2</td>\n",
       "      <td>1.338114</td>\n",
       "      <td>0.614128</td>\n",
       "      <td>weekend</td>\n",
       "      <td>budapest</td>\n",
       "    </tr>\n",
       "    <tr>\n",
       "      <th>4</th>\n",
       "      <td>238.285473</td>\n",
       "      <td>Entire home/apt</td>\n",
       "      <td>False</td>\n",
       "      <td>False</td>\n",
       "      <td>4.0</td>\n",
       "      <td>False</td>\n",
       "      <td>9.0</td>\n",
       "      <td>84.0</td>\n",
       "      <td>0</td>\n",
       "      <td>0.835635</td>\n",
       "      <td>0.175568</td>\n",
       "      <td>weekend</td>\n",
       "      <td>budapest</td>\n",
       "    </tr>\n",
       "  </tbody>\n",
       "</table>\n",
       "</div>"
      ],
      "text/plain": [
       "      realSum        room_type  room_shared  room_private  person_capacity  \\\n",
       "0  332.048691  Entire home/apt        False         False              6.0   \n",
       "1  331.108709  Entire home/apt        False         False              6.0   \n",
       "2  243.925365  Entire home/apt        False         False              6.0   \n",
       "3  206.561075  Entire home/apt        False         False              5.0   \n",
       "4  238.285473  Entire home/apt        False         False              4.0   \n",
       "\n",
       "   host_is_superhost  cleanliness_rating  guest_satisfaction_overall  \\\n",
       "0               True                10.0                        99.0   \n",
       "1              False                 9.0                        98.0   \n",
       "2              False                10.0                        95.0   \n",
       "3               True                10.0                        99.0   \n",
       "4              False                 9.0                        84.0   \n",
       "\n",
       "   bedrooms      dist  metro_dist weekday_weekend      city  \n",
       "0         1  0.359372    0.352662         weekend  budapest  \n",
       "1         2  0.929438    0.200219         weekend  budapest  \n",
       "2         2  0.674318    0.314709         weekend  budapest  \n",
       "3         2  1.338114    0.614128         weekend  budapest  \n",
       "4         0  0.835635    0.175568         weekend  budapest  "
      ]
     },
     "execution_count": 6,
     "metadata": {},
     "output_type": "execute_result"
    }
   ],
   "source": [
    "df.head()"
   ]
  },
  {
   "cell_type": "markdown",
   "id": "bc9de341",
   "metadata": {},
   "source": [
    "'realSum' is 'the total price of the Airbnb listing' and the target. "
   ]
  },
  {
   "cell_type": "code",
   "execution_count": 7,
   "id": "2a08d236",
   "metadata": {
    "ExecuteTime": {
     "end_time": "2023-06-09T20:14:13.643934Z",
     "start_time": "2023-06-09T20:14:13.635492Z"
    }
   },
   "outputs": [],
   "source": [
    "X = df.drop(columns='realSum')\n",
    "y = df.realSum"
   ]
  },
  {
   "cell_type": "code",
   "execution_count": 8,
   "id": "56ba7aa8",
   "metadata": {
    "ExecuteTime": {
     "end_time": "2023-06-09T20:14:13.653941Z",
     "start_time": "2023-06-09T20:14:13.647425Z"
    }
   },
   "outputs": [
    {
     "data": {
      "text/plain": [
       "279.8795910937968"
      ]
     },
     "execution_count": 8,
     "metadata": {},
     "output_type": "execute_result"
    }
   ],
   "source": [
    "np.average(y)"
   ]
  },
  {
   "cell_type": "markdown",
   "id": "2ff02457",
   "metadata": {},
   "source": [
    "See the correlation matrix..."
   ]
  },
  {
   "cell_type": "code",
   "execution_count": 9,
   "id": "c777d8b2",
   "metadata": {
    "ExecuteTime": {
     "end_time": "2023-06-09T20:14:13.939048Z",
     "start_time": "2023-06-09T20:14:13.659172Z"
    }
   },
   "outputs": [
    {
     "data": {
      "text/plain": [
       "<AxesSubplot:>"
      ]
     },
     "execution_count": 9,
     "metadata": {},
     "output_type": "execute_result"
    },
    {
     "data": {
      "image/png": "[encoded data removed]",
      "text/plain": [
       "<Figure size 640x480 with 2 Axes>"
      ]
     },
     "metadata": {},
     "output_type": "display_data"
    }
   ],
   "source": [
    "sns.heatmap(X.corr(), cmap='coolwarm')"
   ]
  },
  {
   "attachments": {},
   "cell_type": "markdown",
   "id": "9d890380",
   "metadata": {},
   "source": [
    "room_private(boolean) and person_capacity seem relatively highly correlated. --> drop room_private"
   ]
  },
  {
   "cell_type": "code",
   "execution_count": 10,
   "id": "85416a1e",
   "metadata": {
    "ExecuteTime": {
     "end_time": "2023-06-09T20:14:13.953580Z",
     "start_time": "2023-06-09T20:14:13.943679Z"
    }
   },
   "outputs": [],
   "source": [
    "X = df.drop(columns=['realSum', \n",
    "                        'room_private'])"
   ]
  },
  {
   "cell_type": "code",
   "execution_count": 11,
   "id": "95a7bb76",
   "metadata": {
    "ExecuteTime": {
     "end_time": "2023-06-09T20:14:13.972978Z",
     "start_time": "2023-06-09T20:14:13.957275Z"
    }
   },
   "outputs": [],
   "source": [
    "X_num_col = X.select_dtypes(include=['float', 'int']).columns\n",
    "X_str_col = X.select_dtypes(include=['object', 'bool']).columns"
   ]
  },
  {
   "cell_type": "markdown",
   "id": "00fb64c2",
   "metadata": {},
   "source": [
    "## Train Test Split"
   ]
  },
  {
   "cell_type": "code",
   "execution_count": 12,
   "id": "c7d99df5",
   "metadata": {
    "ExecuteTime": {
     "end_time": "2023-06-09T20:14:14.000454Z",
     "start_time": "2023-06-09T20:14:13.975573Z"
    }
   },
   "outputs": [
    {
     "data": {
      "text/plain": [
       "((41365, 11), (10342, 11), (41365,), (10342,))"
      ]
     },
     "execution_count": 12,
     "metadata": {},
     "output_type": "execute_result"
    }
   ],
   "source": [
    "X_train, X_test, y_train, y_test = train_test_split(X, y, test_size = 0.20)\n",
    "X_train.shape, X_test.shape, y_train.shape, y_test.shape"
   ]
  },
  {
   "cell_type": "markdown",
   "id": "c11959df",
   "metadata": {},
   "source": [
    "## Preprocess numerical / categorical columns"
   ]
  },
  {
   "cell_type": "code",
   "execution_count": 13,
   "id": "68792e23",
   "metadata": {
    "ExecuteTime": {
     "end_time": "2023-06-09T20:14:14.019853Z",
     "start_time": "2023-06-09T20:14:14.003201Z"
    }
   },
   "outputs": [
    {
     "data": {
      "text/html": [
       "<style>#sk-container-id-1 {color: black;background-color: white;}#sk-container-id-1 pre{padding: 0;}#sk-container-id-1 div.sk-toggleable {background-color: white;}#sk-container-id-1 label.sk-toggleable__label {cursor: pointer;display: block;width: 100%;margin-bottom: 0;padding: 0.3em;box-sizing: border-box;text-align: center;}#sk-container-id-1 label.sk-toggleable__label-arrow:before {content: \"▸\";float: left;margin-right: 0.25em;color: #696969;}#sk-container-id-1 label.sk-toggleable__label-arrow:hover:before {color: black;}#sk-container-id-1 div.sk-estimator:hover label.sk-toggleable__label-arrow:before {color: black;}#sk-container-id-1 div.sk-toggleable__content {max-height: 0;max-width: 0;overflow: hidden;text-align: left;background-color: #f0f8ff;}#sk-container-id-1 div.sk-toggleable__content pre {margin: 0.2em;color: black;border-radius: 0.25em;background-color: #f0f8ff;}#sk-container-id-1 input.sk-toggleable__control:checked~div.sk-toggleable__content {max-height: 200px;max-width: 100%;overflow: auto;}#sk-container-id-1 input.sk-toggleable__control:checked~label.sk-toggleable__label-arrow:before {content: \"▾\";}#sk-container-id-1 div.sk-estimator input.sk-toggleable__control:checked~label.sk-toggleable__label {background-color: #d4ebff;}#sk-container-id-1 div.sk-label input.sk-toggleable__control:checked~label.sk-toggleable__label {background-color: #d4ebff;}#sk-container-id-1 input.sk-hidden--visually {border: 0;clip: rect(1px 1px 1px 1px);clip: rect(1px, 1px, 1px, 1px);height: 1px;margin: -1px;overflow: hidden;padding: 0;position: absolute;width: 1px;}#sk-container-id-1 div.sk-estimator {font-family: monospace;background-color: #f0f8ff;border: 1px dotted black;border-radius: 0.25em;box-sizing: border-box;margin-bottom: 0.5em;}#sk-container-id-1 div.sk-estimator:hover {background-color: #d4ebff;}#sk-container-id-1 div.sk-parallel-item::after {content: \"\";width: 100%;border-bottom: 1px solid gray;flex-grow: 1;}#sk-container-id-1 div.sk-label:hover label.sk-toggleable__label {background-color: #d4ebff;}#sk-container-id-1 div.sk-serial::before {content: \"\";position: absolute;border-left: 1px solid gray;box-sizing: border-box;top: 0;bottom: 0;left: 50%;z-index: 0;}#sk-container-id-1 div.sk-serial {display: flex;flex-direction: column;align-items: center;background-color: white;padding-right: 0.2em;padding-left: 0.2em;position: relative;}#sk-container-id-1 div.sk-item {position: relative;z-index: 1;}#sk-container-id-1 div.sk-parallel {display: flex;align-items: stretch;justify-content: center;background-color: white;position: relative;}#sk-container-id-1 div.sk-item::before, #sk-container-id-1 div.sk-parallel-item::before {content: \"\";position: absolute;border-left: 1px solid gray;box-sizing: border-box;top: 0;bottom: 0;left: 50%;z-index: -1;}#sk-container-id-1 div.sk-parallel-item {display: flex;flex-direction: column;z-index: 1;position: relative;background-color: white;}#sk-container-id-1 div.sk-parallel-item:first-child::after {align-self: flex-end;width: 50%;}#sk-container-id-1 div.sk-parallel-item:last-child::after {align-self: flex-start;width: 50%;}#sk-container-id-1 div.sk-parallel-item:only-child::after {width: 0;}#sk-container-id-1 div.sk-dashed-wrapped {border: 1px dashed gray;margin: 0 0.4em 0.5em 0.4em;box-sizing: border-box;padding-bottom: 0.4em;background-color: white;}#sk-container-id-1 div.sk-label label {font-family: monospace;font-weight: bold;display: inline-block;line-height: 1.2em;}#sk-container-id-1 div.sk-label-container {text-align: center;}#sk-container-id-1 div.sk-container {/* jupyter's `normalize.less` sets `[hidden] { display: none; }` but bootstrap.min.css set `[hidden] { display: none !important; }` so we also need the `!important` here to be able to override the default hidden behavior on the sphinx rendered scikit-learn.org. See: https://github.com/scikit-learn/scikit-learn/issues/21755 */display: inline-block !important;position: relative;}#sk-container-id-1 div.sk-text-repr-fallback {display: none;}</style><div id=\"sk-container-id-1\" class=\"sk-top-container\"><div class=\"sk-text-repr-fallback\"><pre>ColumnTransformer(transformers=[(&#x27;num_transformer&#x27;, StandardScaler(),\n",
       "                                 Index([&#x27;person_capacity&#x27;, &#x27;cleanliness_rating&#x27;, &#x27;guest_satisfaction_overall&#x27;,\n",
       "       &#x27;bedrooms&#x27;, &#x27;dist&#x27;, &#x27;metro_dist&#x27;],\n",
       "      dtype=&#x27;object&#x27;)),\n",
       "                                (&#x27;cat_transformer&#x27;,\n",
       "                                 OneHotEncoder(drop=&#x27;if_binary&#x27;,\n",
       "                                               handle_unknown=&#x27;ignore&#x27;),\n",
       "                                 Index([&#x27;room_type&#x27;, &#x27;room_shared&#x27;, &#x27;host_is_superhost&#x27;, &#x27;weekday_weekend&#x27;,\n",
       "       &#x27;city&#x27;],\n",
       "      dtype=&#x27;object&#x27;))])</pre><b>In a Jupyter environment, please rerun this cell to show the HTML representation or trust the notebook. <br />On GitHub, the HTML representation is unable to render, please try loading this page with nbviewer.org.</b></div><div class=\"sk-container\" hidden><div class=\"sk-item sk-dashed-wrapped\"><div class=\"sk-label-container\"><div class=\"sk-label sk-toggleable\"><input class=\"sk-toggleable__control sk-hidden--visually\" id=\"sk-estimator-id-1\" type=\"checkbox\" ><label for=\"sk-estimator-id-1\" class=\"sk-toggleable__label sk-toggleable__label-arrow\">ColumnTransformer</label><div class=\"sk-toggleable__content\"><pre>ColumnTransformer(transformers=[(&#x27;num_transformer&#x27;, StandardScaler(),\n",
       "                                 Index([&#x27;person_capacity&#x27;, &#x27;cleanliness_rating&#x27;, &#x27;guest_satisfaction_overall&#x27;,\n",
       "       &#x27;bedrooms&#x27;, &#x27;dist&#x27;, &#x27;metro_dist&#x27;],\n",
       "      dtype=&#x27;object&#x27;)),\n",
       "                                (&#x27;cat_transformer&#x27;,\n",
       "                                 OneHotEncoder(drop=&#x27;if_binary&#x27;,\n",
       "                                               handle_unknown=&#x27;ignore&#x27;),\n",
       "                                 Index([&#x27;room_type&#x27;, &#x27;room_shared&#x27;, &#x27;host_is_superhost&#x27;, &#x27;weekday_weekend&#x27;,\n",
       "       &#x27;city&#x27;],\n",
       "      dtype=&#x27;object&#x27;))])</pre></div></div></div><div class=\"sk-parallel\"><div class=\"sk-parallel-item\"><div class=\"sk-item\"><div class=\"sk-label-container\"><div class=\"sk-label sk-toggleable\"><input class=\"sk-toggleable__control sk-hidden--visually\" id=\"sk-estimator-id-2\" type=\"checkbox\" ><label for=\"sk-estimator-id-2\" class=\"sk-toggleable__label sk-toggleable__label-arrow\">num_transformer</label><div class=\"sk-toggleable__content\"><pre>Index([&#x27;person_capacity&#x27;, &#x27;cleanliness_rating&#x27;, &#x27;guest_satisfaction_overall&#x27;,\n",
       "       &#x27;bedrooms&#x27;, &#x27;dist&#x27;, &#x27;metro_dist&#x27;],\n",
       "      dtype=&#x27;object&#x27;)</pre></div></div></div><div class=\"sk-serial\"><div class=\"sk-item\"><div class=\"sk-estimator sk-toggleable\"><input class=\"sk-toggleable__control sk-hidden--visually\" id=\"sk-estimator-id-3\" type=\"checkbox\" ><label for=\"sk-estimator-id-3\" class=\"sk-toggleable__label sk-toggleable__label-arrow\">StandardScaler</label><div class=\"sk-toggleable__content\"><pre>StandardScaler()</pre></div></div></div></div></div></div><div class=\"sk-parallel-item\"><div class=\"sk-item\"><div class=\"sk-label-container\"><div class=\"sk-label sk-toggleable\"><input class=\"sk-toggleable__control sk-hidden--visually\" id=\"sk-estimator-id-4\" type=\"checkbox\" ><label for=\"sk-estimator-id-4\" class=\"sk-toggleable__label sk-toggleable__label-arrow\">cat_transformer</label><div class=\"sk-toggleable__content\"><pre>Index([&#x27;room_type&#x27;, &#x27;room_shared&#x27;, &#x27;host_is_superhost&#x27;, &#x27;weekday_weekend&#x27;,\n",
       "       &#x27;city&#x27;],\n",
       "      dtype=&#x27;object&#x27;)</pre></div></div></div><div class=\"sk-serial\"><div class=\"sk-item\"><div class=\"sk-estimator sk-toggleable\"><input class=\"sk-toggleable__control sk-hidden--visually\" id=\"sk-estimator-id-5\" type=\"checkbox\" ><label for=\"sk-estimator-id-5\" class=\"sk-toggleable__label sk-toggleable__label-arrow\">OneHotEncoder</label><div class=\"sk-toggleable__content\"><pre>OneHotEncoder(drop=&#x27;if_binary&#x27;, handle_unknown=&#x27;ignore&#x27;)</pre></div></div></div></div></div></div></div></div></div></div>"
      ],
      "text/plain": [
       "ColumnTransformer(transformers=[('num_transformer', StandardScaler(),\n",
       "                                 Index(['person_capacity', 'cleanliness_rating', 'guest_satisfaction_overall',\n",
       "       'bedrooms', 'dist', 'metro_dist'],\n",
       "      dtype='object')),\n",
       "                                ('cat_transformer',\n",
       "                                 OneHotEncoder(drop='if_binary',\n",
       "                                               handle_unknown='ignore'),\n",
       "                                 Index(['room_type', 'room_shared', 'host_is_superhost', 'weekday_weekend',\n",
       "       'city'],\n",
       "      dtype='object'))])"
      ]
     },
     "execution_count": 13,
     "metadata": {},
     "output_type": "execute_result"
    }
   ],
   "source": [
    "num_transformer = StandardScaler()\n",
    "\n",
    "cat_transformer = OneHotEncoder(handle_unknown='ignore', drop='if_binary')\n",
    "\n",
    "preprocessor = ColumnTransformer([\n",
    "    ('num_transformer', num_transformer, X_num_col),\n",
    "    ('cat_transformer', cat_transformer, X_str_col)\n",
    "])\n",
    "\n",
    "preprocessor"
   ]
  },
  {
   "cell_type": "code",
   "execution_count": 14,
   "id": "d553a74c",
   "metadata": {
    "ExecuteTime": {
     "end_time": "2023-06-09T20:14:14.145460Z",
     "start_time": "2023-06-09T20:14:14.023228Z"
    }
   },
   "outputs": [
    {
     "name": "stdout",
     "output_type": "stream",
     "text": [
      "X_train\n"
     ]
    },
    {
     "data": {
      "text/html": [
       "<div>\n",
       "<style scoped>\n",
       "    .dataframe tbody tr th:only-of-type {\n",
       "        vertical-align: middle;\n",
       "    }\n",
       "\n",
       "    .dataframe tbody tr th {\n",
       "        vertical-align: top;\n",
       "    }\n",
       "\n",
       "    .dataframe thead th {\n",
       "        text-align: right;\n",
       "    }\n",
       "</style>\n",
       "<table border=\"1\" class=\"dataframe\">\n",
       "  <thead>\n",
       "    <tr style=\"text-align: right;\">\n",
       "      <th></th>\n",
       "      <th>room_type</th>\n",
       "      <th>room_shared</th>\n",
       "      <th>person_capacity</th>\n",
       "      <th>host_is_superhost</th>\n",
       "      <th>cleanliness_rating</th>\n",
       "      <th>guest_satisfaction_overall</th>\n",
       "      <th>bedrooms</th>\n",
       "      <th>dist</th>\n",
       "      <th>metro_dist</th>\n",
       "      <th>weekday_weekend</th>\n",
       "      <th>city</th>\n",
       "    </tr>\n",
       "  </thead>\n",
       "  <tbody>\n",
       "    <tr>\n",
       "      <th>1396</th>\n",
       "      <td>Entire home/apt</td>\n",
       "      <td>False</td>\n",
       "      <td>5.0</td>\n",
       "      <td>False</td>\n",
       "      <td>10.0</td>\n",
       "      <td>96.0</td>\n",
       "      <td>2</td>\n",
       "      <td>1.657024</td>\n",
       "      <td>0.984947</td>\n",
       "      <td>weekend</td>\n",
       "      <td>athens</td>\n",
       "    </tr>\n",
       "    <tr>\n",
       "      <th>2189</th>\n",
       "      <td>Private room</td>\n",
       "      <td>False</td>\n",
       "      <td>3.0</td>\n",
       "      <td>False</td>\n",
       "      <td>10.0</td>\n",
       "      <td>95.0</td>\n",
       "      <td>1</td>\n",
       "      <td>3.406355</td>\n",
       "      <td>1.103844</td>\n",
       "      <td>weekday</td>\n",
       "      <td>rome</td>\n",
       "    </tr>\n",
       "    <tr>\n",
       "      <th>1591</th>\n",
       "      <td>Private room</td>\n",
       "      <td>False</td>\n",
       "      <td>2.0</td>\n",
       "      <td>False</td>\n",
       "      <td>9.0</td>\n",
       "      <td>95.0</td>\n",
       "      <td>1</td>\n",
       "      <td>6.351677</td>\n",
       "      <td>0.932549</td>\n",
       "      <td>weekend</td>\n",
       "      <td>london</td>\n",
       "    </tr>\n",
       "    <tr>\n",
       "      <th>2562</th>\n",
       "      <td>Private room</td>\n",
       "      <td>False</td>\n",
       "      <td>2.0</td>\n",
       "      <td>True</td>\n",
       "      <td>10.0</td>\n",
       "      <td>99.0</td>\n",
       "      <td>1</td>\n",
       "      <td>1.103531</td>\n",
       "      <td>0.230068</td>\n",
       "      <td>weekday</td>\n",
       "      <td>lisbon</td>\n",
       "    </tr>\n",
       "    <tr>\n",
       "      <th>54</th>\n",
       "      <td>Entire home/apt</td>\n",
       "      <td>False</td>\n",
       "      <td>4.0</td>\n",
       "      <td>False</td>\n",
       "      <td>10.0</td>\n",
       "      <td>98.0</td>\n",
       "      <td>2</td>\n",
       "      <td>4.101559</td>\n",
       "      <td>3.132286</td>\n",
       "      <td>weekday</td>\n",
       "      <td>lisbon</td>\n",
       "    </tr>\n",
       "  </tbody>\n",
       "</table>\n",
       "</div>"
      ],
      "text/plain": [
       "            room_type  room_shared  person_capacity  host_is_superhost  \\\n",
       "1396  Entire home/apt        False              5.0              False   \n",
       "2189     Private room        False              3.0              False   \n",
       "1591     Private room        False              2.0              False   \n",
       "2562     Private room        False              2.0               True   \n",
       "54    Entire home/apt        False              4.0              False   \n",
       "\n",
       "      cleanliness_rating  guest_satisfaction_overall  bedrooms      dist  \\\n",
       "1396                10.0                        96.0         2  1.657024   \n",
       "2189                10.0                        95.0         1  3.406355   \n",
       "1591                 9.0                        95.0         1  6.351677   \n",
       "2562                10.0                        99.0         1  1.103531   \n",
       "54                  10.0                        98.0         2  4.101559   \n",
       "\n",
       "      metro_dist weekday_weekend    city  \n",
       "1396    0.984947         weekend  athens  \n",
       "2189    1.103844         weekday    rome  \n",
       "1591    0.932549         weekend  london  \n",
       "2562    0.230068         weekday  lisbon  \n",
       "54      3.132286         weekday  lisbon  "
      ]
     },
     "metadata": {},
     "output_type": "display_data"
    },
    {
     "name": "stdout",
     "output_type": "stream",
     "text": [
      "(41365, 11)\n",
      "X_train_processed\n"
     ]
    },
    {
     "data": {
      "text/html": [
       "<div>\n",
       "<style scoped>\n",
       "    .dataframe tbody tr th:only-of-type {\n",
       "        vertical-align: middle;\n",
       "    }\n",
       "\n",
       "    .dataframe tbody tr th {\n",
       "        vertical-align: top;\n",
       "    }\n",
       "\n",
       "    .dataframe thead th {\n",
       "        text-align: right;\n",
       "    }\n",
       "</style>\n",
       "<table border=\"1\" class=\"dataframe\">\n",
       "  <thead>\n",
       "    <tr style=\"text-align: right;\">\n",
       "      <th></th>\n",
       "      <th>num_transformer__person_capacity</th>\n",
       "      <th>num_transformer__cleanliness_rating</th>\n",
       "      <th>num_transformer__guest_satisfaction_overall</th>\n",
       "      <th>num_transformer__bedrooms</th>\n",
       "      <th>num_transformer__dist</th>\n",
       "      <th>num_transformer__metro_dist</th>\n",
       "      <th>cat_transformer__room_type_Entire home/apt</th>\n",
       "      <th>cat_transformer__room_type_Private room</th>\n",
       "      <th>cat_transformer__room_type_Shared room</th>\n",
       "      <th>cat_transformer__room_shared_True</th>\n",
       "      <th>...</th>\n",
       "      <th>cat_transformer__city_amsterdam</th>\n",
       "      <th>cat_transformer__city_athens</th>\n",
       "      <th>cat_transformer__city_barcelona</th>\n",
       "      <th>cat_transformer__city_berlin</th>\n",
       "      <th>cat_transformer__city_budapest</th>\n",
       "      <th>cat_transformer__city_lisbon</th>\n",
       "      <th>cat_transformer__city_london</th>\n",
       "      <th>cat_transformer__city_paris</th>\n",
       "      <th>cat_transformer__city_rome</th>\n",
       "      <th>cat_transformer__city_vienna</th>\n",
       "    </tr>\n",
       "  </thead>\n",
       "  <tbody>\n",
       "    <tr>\n",
       "      <th>0</th>\n",
       "      <td>1.409817</td>\n",
       "      <td>0.638379</td>\n",
       "      <td>0.376133</td>\n",
       "      <td>1.332317</td>\n",
       "      <td>-0.641034</td>\n",
       "      <td>0.349907</td>\n",
       "      <td>1.0</td>\n",
       "      <td>0.0</td>\n",
       "      <td>0.0</td>\n",
       "      <td>0.0</td>\n",
       "      <td>...</td>\n",
       "      <td>0.0</td>\n",
       "      <td>1.0</td>\n",
       "      <td>0.0</td>\n",
       "      <td>0.0</td>\n",
       "      <td>0.0</td>\n",
       "      <td>0.0</td>\n",
       "      <td>0.0</td>\n",
       "      <td>0.0</td>\n",
       "      <td>0.0</td>\n",
       "      <td>0.0</td>\n",
       "    </tr>\n",
       "    <tr>\n",
       "      <th>1</th>\n",
       "      <td>-0.127756</td>\n",
       "      <td>0.638379</td>\n",
       "      <td>0.264709</td>\n",
       "      <td>-0.255219</td>\n",
       "      <td>0.089385</td>\n",
       "      <td>0.487444</td>\n",
       "      <td>0.0</td>\n",
       "      <td>1.0</td>\n",
       "      <td>0.0</td>\n",
       "      <td>0.0</td>\n",
       "      <td>...</td>\n",
       "      <td>0.0</td>\n",
       "      <td>0.0</td>\n",
       "      <td>0.0</td>\n",
       "      <td>0.0</td>\n",
       "      <td>0.0</td>\n",
       "      <td>0.0</td>\n",
       "      <td>0.0</td>\n",
       "      <td>0.0</td>\n",
       "      <td>1.0</td>\n",
       "      <td>0.0</td>\n",
       "    </tr>\n",
       "    <tr>\n",
       "      <th>2</th>\n",
       "      <td>-0.896543</td>\n",
       "      <td>-0.411208</td>\n",
       "      <td>0.264709</td>\n",
       "      <td>-0.255219</td>\n",
       "      <td>1.319181</td>\n",
       "      <td>0.289295</td>\n",
       "      <td>0.0</td>\n",
       "      <td>1.0</td>\n",
       "      <td>0.0</td>\n",
       "      <td>0.0</td>\n",
       "      <td>...</td>\n",
       "      <td>0.0</td>\n",
       "      <td>0.0</td>\n",
       "      <td>0.0</td>\n",
       "      <td>0.0</td>\n",
       "      <td>0.0</td>\n",
       "      <td>0.0</td>\n",
       "      <td>1.0</td>\n",
       "      <td>0.0</td>\n",
       "      <td>0.0</td>\n",
       "      <td>0.0</td>\n",
       "    </tr>\n",
       "    <tr>\n",
       "      <th>3</th>\n",
       "      <td>-0.896543</td>\n",
       "      <td>0.638379</td>\n",
       "      <td>0.710403</td>\n",
       "      <td>-0.255219</td>\n",
       "      <td>-0.872140</td>\n",
       "      <td>-0.523314</td>\n",
       "      <td>0.0</td>\n",
       "      <td>1.0</td>\n",
       "      <td>0.0</td>\n",
       "      <td>0.0</td>\n",
       "      <td>...</td>\n",
       "      <td>0.0</td>\n",
       "      <td>0.0</td>\n",
       "      <td>0.0</td>\n",
       "      <td>0.0</td>\n",
       "      <td>0.0</td>\n",
       "      <td>1.0</td>\n",
       "      <td>0.0</td>\n",
       "      <td>0.0</td>\n",
       "      <td>0.0</td>\n",
       "      <td>0.0</td>\n",
       "    </tr>\n",
       "    <tr>\n",
       "      <th>4</th>\n",
       "      <td>0.641030</td>\n",
       "      <td>0.638379</td>\n",
       "      <td>0.598980</td>\n",
       "      <td>1.332317</td>\n",
       "      <td>0.379662</td>\n",
       "      <td>2.833883</td>\n",
       "      <td>1.0</td>\n",
       "      <td>0.0</td>\n",
       "      <td>0.0</td>\n",
       "      <td>0.0</td>\n",
       "      <td>...</td>\n",
       "      <td>0.0</td>\n",
       "      <td>0.0</td>\n",
       "      <td>0.0</td>\n",
       "      <td>0.0</td>\n",
       "      <td>0.0</td>\n",
       "      <td>1.0</td>\n",
       "      <td>0.0</td>\n",
       "      <td>0.0</td>\n",
       "      <td>0.0</td>\n",
       "      <td>0.0</td>\n",
       "    </tr>\n",
       "  </tbody>\n",
       "</table>\n",
       "<p>5 rows × 22 columns</p>\n",
       "</div>"
      ],
      "text/plain": [
       "   num_transformer__person_capacity  num_transformer__cleanliness_rating  \\\n",
       "0                          1.409817                             0.638379   \n",
       "1                         -0.127756                             0.638379   \n",
       "2                         -0.896543                            -0.411208   \n",
       "3                         -0.896543                             0.638379   \n",
       "4                          0.641030                             0.638379   \n",
       "\n",
       "   num_transformer__guest_satisfaction_overall  num_transformer__bedrooms  \\\n",
       "0                                     0.376133                   1.332317   \n",
       "1                                     0.264709                  -0.255219   \n",
       "2                                     0.264709                  -0.255219   \n",
       "3                                     0.710403                  -0.255219   \n",
       "4                                     0.598980                   1.332317   \n",
       "\n",
       "   num_transformer__dist  num_transformer__metro_dist  \\\n",
       "0              -0.641034                     0.349907   \n",
       "1               0.089385                     0.487444   \n",
       "2               1.319181                     0.289295   \n",
       "3              -0.872140                    -0.523314   \n",
       "4               0.379662                     2.833883   \n",
       "\n",
       "   cat_transformer__room_type_Entire home/apt  \\\n",
       "0                                         1.0   \n",
       "1                                         0.0   \n",
       "2                                         0.0   \n",
       "3                                         0.0   \n",
       "4                                         1.0   \n",
       "\n",
       "   cat_transformer__room_type_Private room  \\\n",
       "0                                      0.0   \n",
       "1                                      1.0   \n",
       "2                                      1.0   \n",
       "3                                      1.0   \n",
       "4                                      0.0   \n",
       "\n",
       "   cat_transformer__room_type_Shared room  cat_transformer__room_shared_True  \\\n",
       "0                                     0.0                                0.0   \n",
       "1                                     0.0                                0.0   \n",
       "2                                     0.0                                0.0   \n",
       "3                                     0.0                                0.0   \n",
       "4                                     0.0                                0.0   \n",
       "\n",
       "   ...  cat_transformer__city_amsterdam  cat_transformer__city_athens  \\\n",
       "0  ...                              0.0                           1.0   \n",
       "1  ...                              0.0                           0.0   \n",
       "2  ...                              0.0                           0.0   \n",
       "3  ...                              0.0                           0.0   \n",
       "4  ...                              0.0                           0.0   \n",
       "\n",
       "   cat_transformer__city_barcelona  cat_transformer__city_berlin  \\\n",
       "0                              0.0                           0.0   \n",
       "1                              0.0                           0.0   \n",
       "2                              0.0                           0.0   \n",
       "3                              0.0                           0.0   \n",
       "4                              0.0                           0.0   \n",
       "\n",
       "   cat_transformer__city_budapest  cat_transformer__city_lisbon  \\\n",
       "0                             0.0                           0.0   \n",
       "1                             0.0                           0.0   \n",
       "2                             0.0                           0.0   \n",
       "3                             0.0                           1.0   \n",
       "4                             0.0                           1.0   \n",
       "\n",
       "   cat_transformer__city_london  cat_transformer__city_paris  \\\n",
       "0                           0.0                          0.0   \n",
       "1                           0.0                          0.0   \n",
       "2                           1.0                          0.0   \n",
       "3                           0.0                          0.0   \n",
       "4                           0.0                          0.0   \n",
       "\n",
       "   cat_transformer__city_rome  cat_transformer__city_vienna  \n",
       "0                         0.0                           0.0  \n",
       "1                         1.0                           0.0  \n",
       "2                         0.0                           0.0  \n",
       "3                         0.0                           0.0  \n",
       "4                         0.0                           0.0  \n",
       "\n",
       "[5 rows x 22 columns]"
      ]
     },
     "metadata": {},
     "output_type": "display_data"
    },
    {
     "name": "stdout",
     "output_type": "stream",
     "text": [
      "(41365, 22)\n"
     ]
    }
   ],
   "source": [
    "X_train_transformed = preprocessor.fit_transform(X_train)\n",
    "\n",
    "print(\"X_train\")\n",
    "display(X_train.head())\n",
    "print(X_train.shape)\n",
    "\n",
    "print(\"X_train_processed\")\n",
    "display(pd.DataFrame(\n",
    "    X_train_transformed, \n",
    "    columns=preprocessor.get_feature_names_out()\n",
    ").head())\n",
    "print(X_train_transformed.shape)"
   ]
  },
  {
   "cell_type": "markdown",
   "id": "894e6144",
   "metadata": {},
   "source": [
    "# Neural Network"
   ]
  },
  {
   "cell_type": "code",
   "execution_count": 15,
   "id": "bf54ba80",
   "metadata": {
    "ExecuteTime": {
     "end_time": "2023-06-09T20:14:14.286750Z",
     "start_time": "2023-06-09T20:14:14.149440Z"
    }
   },
   "outputs": [],
   "source": [
    "model = models.Sequential()\n",
    "    \n",
    "model.add(layers.Dense(20, activation='relu', input_dim = X_train_transformed.shape[-1]))\n",
    "\n",
    "model.add(layers.Dense(10, activation='relu'))\n",
    "model.add(layers.Dropout(0.3))\n",
    "model.add(layers.Dense(10, activation='relu'))\n",
    "model.add(layers.Dropout(0.3))\n",
    "model.add(layers.Dense(5, activation='relu',  kernel_regularizer = L1(0.3)))\n",
    "model.add(layers.Dropout(0.3))\n",
    "model.add(layers.Dense(1, activation='linear'))\n",
    "\n",
    "model.compile(optimizer='adam',\n",
    "              loss='msle')"
   ]
  },
  {
   "cell_type": "code",
   "execution_count": 16,
   "id": "6dca8003",
   "metadata": {
    "ExecuteTime": {
     "end_time": "2023-06-09T20:16:08.568447Z",
     "start_time": "2023-06-09T20:14:14.291098Z"
    },
    "scrolled": false
   },
   "outputs": [
    {
     "name": "stdout",
     "output_type": "stream",
     "text": [
      "Epoch 1/20\n",
      "1810/1810 [==============================] - 7s 3ms/step - loss: 6.2321 - val_loss: 1.0327\n",
      "Epoch 2/20\n",
      "1810/1810 [==============================] - 6s 3ms/step - loss: 1.8323 - val_loss: 0.4766\n",
      "Epoch 3/20\n",
      "1810/1810 [==============================] - 6s 3ms/step - loss: 1.3493 - val_loss: 0.3584\n",
      "Epoch 4/20\n",
      "1810/1810 [==============================] - 6s 3ms/step - loss: 1.1142 - val_loss: 0.2663\n",
      "Epoch 5/20\n",
      "1810/1810 [==============================] - 6s 3ms/step - loss: 1.0411 - val_loss: 0.2437\n",
      "Epoch 6/20\n",
      "1810/1810 [==============================] - 6s 3ms/step - loss: 0.9573 - val_loss: 0.2065\n",
      "Epoch 7/20\n",
      "1810/1810 [==============================] - 6s 3ms/step - loss: 0.6775 - val_loss: 0.2572\n",
      "Epoch 8/20\n",
      "1810/1810 [==============================] - 6s 3ms/step - loss: 0.5544 - val_loss: 0.2378\n",
      "Epoch 9/20\n",
      "1810/1810 [==============================] - 6s 3ms/step - loss: 0.4727 - val_loss: 0.2050\n",
      "Epoch 10/20\n",
      "1810/1810 [==============================] - 6s 3ms/step - loss: 0.4279 - val_loss: 0.1873\n",
      "Epoch 11/20\n",
      "1810/1810 [==============================] - 6s 3ms/step - loss: 0.4070 - val_loss: 0.1888\n",
      "Epoch 12/20\n",
      "1810/1810 [==============================] - 6s 3ms/step - loss: 0.3910 - val_loss: 0.1818\n",
      "Epoch 13/20\n",
      "1810/1810 [==============================] - 6s 3ms/step - loss: 0.3668 - val_loss: 0.1676\n",
      "Epoch 14/20\n",
      "1810/1810 [==============================] - 6s 3ms/step - loss: 0.3472 - val_loss: 0.1776\n",
      "Epoch 15/20\n",
      "1810/1810 [==============================] - 5s 3ms/step - loss: 0.3418 - val_loss: 0.1690\n",
      "Epoch 16/20\n",
      "1810/1810 [==============================] - 5s 3ms/step - loss: 0.3324 - val_loss: 0.2102\n",
      "Epoch 17/20\n",
      "1810/1810 [==============================] - 6s 3ms/step - loss: 0.3274 - val_loss: 0.1724\n",
      "Epoch 18/20\n",
      "1810/1810 [==============================] - 5s 3ms/step - loss: 0.3367 - val_loss: 0.1833\n",
      "Epoch 19/20\n",
      "1810/1810 [==============================] - 5s 3ms/step - loss: 0.3212 - val_loss: 0.1694\n",
      "Epoch 20/20\n",
      "1810/1810 [==============================] - 5s 3ms/step - loss: 0.3180 - val_loss: 0.1824\n"
     ]
    }
   ],
   "source": [
    "es = EarlyStopping(patience=10, restore_best_weights=True)\n",
    "epochs = 20\n",
    "batch_size = 16\n",
    "\n",
    "history = model.fit(X_train_transformed, \n",
    "                    y_train,\n",
    "                    validation_split=0.3,\n",
    "                    epochs = epochs,         \n",
    "                    batch_size = batch_size,\n",
    "                    callbacks=[es],\n",
    "                    verbose = 1)"
   ]
  },
  {
   "cell_type": "code",
   "execution_count": 17,
   "id": "bd372a47",
   "metadata": {
    "ExecuteTime": {
     "end_time": "2023-06-09T20:16:08.707867Z",
     "start_time": "2023-06-09T20:16:08.572171Z"
    }
   },
   "outputs": [
    {
     "data": {
      "image/png": "[encoded data removed]",
      "text/plain": [
       "<Figure size 640x480 with 1 Axes>"
      ]
     },
     "metadata": {},
     "output_type": "display_data"
    }
   ],
   "source": [
    "def plot_history(history):\n",
    "    plt.plot(np.sqrt(history.history['loss']))\n",
    "    plt.plot(np.sqrt(history.history['val_loss']))\n",
    "    plt.title('Model Loss')\n",
    "    plt.ylabel('RMSLE')\n",
    "    plt.xlabel('Epoch')\n",
    "    plt.legend(['Train', 'Val'], loc='best')\n",
    "    plt.show()\n",
    "    \n",
    "plot_history(history)"
   ]
  },
  {
   "cell_type": "code",
   "execution_count": 18,
   "id": "9864a688",
   "metadata": {
    "ExecuteTime": {
     "end_time": "2023-06-09T20:16:08.746944Z",
     "start_time": "2023-06-09T20:16:08.712882Z"
    }
   },
   "outputs": [],
   "source": [
    "X_test_transformed = preprocessor.transform(X_test)"
   ]
  },
  {
   "cell_type": "code",
   "execution_count": 19,
   "id": "e766b123",
   "metadata": {
    "ExecuteTime": {
     "end_time": "2023-06-09T20:16:09.418568Z",
     "start_time": "2023-06-09T20:16:08.750713Z"
    }
   },
   "outputs": [
    {
     "name": "stdout",
     "output_type": "stream",
     "text": [
      "324/324 [==============================] - 1s 2ms/step - loss: 0.1818\n",
      "RMSLE evaluated on test set is 0.43\n"
     ]
    }
   ],
   "source": [
    "res = model.evaluate(X_test_transformed, y_test)**0.5\n",
    "print(f'RMSLE evaluated on test set is {round(res, 2)}')"
   ]
  },
  {
   "cell_type": "markdown",
   "id": "acd1bf9d",
   "metadata": {},
   "source": [
    "# How much would this airbnb cost??"
   ]
  },
  {
   "cell_type": "code",
   "execution_count": 20,
   "id": "defd8d4f",
   "metadata": {
    "ExecuteTime": {
     "end_time": "2023-06-09T20:16:09.427976Z",
     "start_time": "2023-06-09T20:16:09.422829Z"
    }
   },
   "outputs": [],
   "source": [
    "random = np.random.randint(0,len(X_test), 1)"
   ]
  },
  {
   "cell_type": "code",
   "execution_count": 21,
   "id": "7786dfe0",
   "metadata": {
    "ExecuteTime": {
     "end_time": "2023-06-09T20:16:09.458917Z",
     "start_time": "2023-06-09T20:16:09.431372Z"
    }
   },
   "outputs": [
    {
     "data": {
      "text/html": [
       "<div>\n",
       "<style scoped>\n",
       "    .dataframe tbody tr th:only-of-type {\n",
       "        vertical-align: middle;\n",
       "    }\n",
       "\n",
       "    .dataframe tbody tr th {\n",
       "        vertical-align: top;\n",
       "    }\n",
       "\n",
       "    .dataframe thead th {\n",
       "        text-align: right;\n",
       "    }\n",
       "</style>\n",
       "<table border=\"1\" class=\"dataframe\">\n",
       "  <thead>\n",
       "    <tr style=\"text-align: right;\">\n",
       "      <th></th>\n",
       "      <th>room_type</th>\n",
       "      <th>room_shared</th>\n",
       "      <th>person_capacity</th>\n",
       "      <th>host_is_superhost</th>\n",
       "      <th>cleanliness_rating</th>\n",
       "      <th>guest_satisfaction_overall</th>\n",
       "      <th>bedrooms</th>\n",
       "      <th>dist</th>\n",
       "      <th>metro_dist</th>\n",
       "      <th>weekday_weekend</th>\n",
       "      <th>city</th>\n",
       "    </tr>\n",
       "  </thead>\n",
       "  <tbody>\n",
       "    <tr>\n",
       "      <th>924</th>\n",
       "      <td>Entire home/apt</td>\n",
       "      <td>False</td>\n",
       "      <td>2.0</td>\n",
       "      <td>False</td>\n",
       "      <td>10.0</td>\n",
       "      <td>100.0</td>\n",
       "      <td>0</td>\n",
       "      <td>5.279827</td>\n",
       "      <td>0.25231</td>\n",
       "      <td>weekend</td>\n",
       "      <td>berlin</td>\n",
       "    </tr>\n",
       "  </tbody>\n",
       "</table>\n",
       "</div>"
      ],
      "text/plain": [
       "           room_type  room_shared  person_capacity  host_is_superhost  \\\n",
       "924  Entire home/apt        False              2.0              False   \n",
       "\n",
       "     cleanliness_rating  guest_satisfaction_overall  bedrooms      dist  \\\n",
       "924                10.0                       100.0         0  5.279827   \n",
       "\n",
       "     metro_dist weekday_weekend    city  \n",
       "924     0.25231         weekend  berlin  "
      ]
     },
     "execution_count": 21,
     "metadata": {},
     "output_type": "execute_result"
    }
   ],
   "source": [
    "X_test_example = X_test.iloc[random]\n",
    "X_test_example"
   ]
  },
  {
   "cell_type": "markdown",
   "id": "27ecd6d9",
   "metadata": {},
   "source": [
    "## Predicted price is..."
   ]
  },
  {
   "cell_type": "code",
   "execution_count": 22,
   "id": "a2eeb8e0",
   "metadata": {
    "ExecuteTime": {
     "end_time": "2023-06-09T20:16:09.615113Z",
     "start_time": "2023-06-09T20:16:09.462191Z"
    },
    "scrolled": true
   },
   "outputs": [
    {
     "name": "stdout",
     "output_type": "stream",
     "text": [
      "1/1 [==============================] - 0s 93ms/step\n"
     ]
    },
    {
     "data": {
      "text/plain": [
       "array([[203.7115]], dtype=float32)"
      ]
     },
     "execution_count": 22,
     "metadata": {},
     "output_type": "execute_result"
    }
   ],
   "source": [
    "example_transformed = preprocessor.transform(X_test_example)\n",
    "model.predict(example_transformed)"
   ]
  },
  {
   "cell_type": "markdown",
   "id": "2fdb0594",
   "metadata": {},
   "source": [
    "## True price is...."
   ]
  },
  {
   "cell_type": "code",
   "execution_count": 23,
   "id": "ee2e48df",
   "metadata": {
    "ExecuteTime": {
     "end_time": "2023-06-09T20:16:09.627020Z",
     "start_time": "2023-06-09T20:16:09.618931Z"
    }
   },
   "outputs": [
    {
     "data": {
      "text/html": [
       "<div>\n",
       "<style scoped>\n",
       "    .dataframe tbody tr th:only-of-type {\n",
       "        vertical-align: middle;\n",
       "    }\n",
       "\n",
       "    .dataframe tbody tr th {\n",
       "        vertical-align: top;\n",
       "    }\n",
       "\n",
       "    .dataframe thead th {\n",
       "        text-align: right;\n",
       "    }\n",
       "</style>\n",
       "<table border=\"1\" class=\"dataframe\">\n",
       "  <thead>\n",
       "    <tr style=\"text-align: right;\">\n",
       "      <th></th>\n",
       "      <th>realSum</th>\n",
       "    </tr>\n",
       "  </thead>\n",
       "  <tbody>\n",
       "    <tr>\n",
       "      <th>924</th>\n",
       "      <td>220.155184</td>\n",
       "    </tr>\n",
       "  </tbody>\n",
       "</table>\n",
       "</div>"
      ],
      "text/plain": [
       "        realSum\n",
       "924  220.155184"
      ]
     },
     "execution_count": 23,
     "metadata": {},
     "output_type": "execute_result"
    }
   ],
   "source": [
    "pd.DataFrame(y_test).iloc[random]"
   ]
  }
 ],
 "metadata": {
  "kernelspec": {
   "display_name": "Python 3 (ipykernel)",
   "language": "python",
   "name": "python3"
  },
  "language_info": {
   "codemirror_mode": {
    "name": "ipython",
    "version": 3
   },
   "file_extension": ".py",
   "mimetype": "text/x-python",
   "name": "python",
   "nbconvert_exporter": "python",
   "pygments_lexer": "ipython3",
   "version": "3.10.6"
  },
  "toc": {
   "base_numbering": 1,
   "nav_menu": {},
   "number_sections": true,
   "sideBar": true,
   "skip_h1_title": false,
   "title_cell": "Table of Contents",
   "title_sidebar": "Contents",
   "toc_cell": false,
   "toc_position": {},
   "toc_section_display": true,
   "toc_window_display": false
  }
 },
 "nbformat": 4,
 "nbformat_minor": 5
}
